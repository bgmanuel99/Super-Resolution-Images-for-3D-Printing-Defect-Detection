{
 "cells": [
  {
   "cell_type": "markdown",
   "id": "4e8062bc",
   "metadata": {},
   "source": [
    "# LR Dataset loading"
   ]
  },
  {
   "cell_type": "code",
   "execution_count": null,
   "id": "38f707d5",
   "metadata": {},
   "outputs": [],
   "source": []
  },
  {
   "cell_type": "markdown",
   "id": "514b5269",
   "metadata": {},
   "source": [
    "# SRCNN model predictions"
   ]
  },
  {
   "cell_type": "code",
   "execution_count": null,
   "id": "f90f5696",
   "metadata": {},
   "outputs": [],
   "source": []
  },
  {
   "cell_type": "markdown",
   "id": "f8091fdd",
   "metadata": {},
   "source": [
    "# EDSR model predictions"
   ]
  },
  {
   "cell_type": "code",
   "execution_count": null,
   "id": "9ade4cb0",
   "metadata": {},
   "outputs": [],
   "source": []
  },
  {
   "cell_type": "markdown",
   "id": "20f5f0dc",
   "metadata": {},
   "source": [
    "# ESRGAN model predictions"
   ]
  },
  {
   "cell_type": "code",
   "execution_count": null,
   "id": "ebfa3990",
   "metadata": {},
   "outputs": [],
   "source": []
  },
  {
   "cell_type": "markdown",
   "id": "f311fe69",
   "metadata": {},
   "source": [
    "# VGG16 model predictions"
   ]
  },
  {
   "cell_type": "code",
   "execution_count": null,
   "id": "af77c885",
   "metadata": {},
   "outputs": [],
   "source": []
  }
 ],
 "metadata": {
  "language_info": {
   "name": "python"
  }
 },
 "nbformat": 4,
 "nbformat_minor": 5
}
