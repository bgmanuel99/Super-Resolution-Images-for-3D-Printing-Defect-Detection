{
 "cells": [
  {
   "cell_type": "markdown",
   "id": "0f8fb4a5",
   "metadata": {},
   "source": [
    "# 🧪 Super Resolución Clásica - Técnicas en Python\n",
    "Este notebook muestra implementaciones prácticas de cinco técnicas clásicas de super resolución: \n",
    "1. Interpolación (bilineal y bicúbica)\n",
    "2. Multi-frame Super Resolution (MFSR)\n",
    "3. Sparse Representation\n",
    "4. Edge-Directed Interpolation\n",
    "5. Neighbor Embedding\n"
   ]
  },
  {
   "cell_type": "code",
   "execution_count": null,
   "id": "b04f42f3",
   "metadata": {},
   "outputs": [],
   "source": [
    "import cv2\n",
    "import numpy as np\n",
    "import matplotlib.pyplot as plt\n",
    "from skimage import io, img_as_float\n",
    "from skimage.transform import warp, AffineTransform, resize\n",
    "from skimage.filters import sobel\n",
    "from sklearn.decomposition import SparseCoder\n",
    "from sklearn.feature_extraction.image import extract_patches_2d, reconstruct_from_patches_2d\n",
    "from sklearn.preprocessing import normalize\n",
    "from sklearn.neighbors import NearestNeighbors\n"
   ]
  },
  {
   "cell_type": "markdown",
   "id": "f7cd9b5c",
   "metadata": {},
   "source": [
    "## 1. Interpolación bilineal y bicúbica"
   ]
  },
  {
   "cell_type": "code",
   "execution_count": null,
   "id": "8b8718fe",
   "metadata": {},
   "outputs": [],
   "source": [
    "# Cargar imagen\n",
    "img_path = \"imagen_lr.jpg\"  # Reemplaza con tu imagen\n",
    "img = cv2.imread(img_path)\n",
    "img_rgb = cv2.cvtColor(img, cv2.COLOR_BGR2RGB)\n",
    "\n",
    "# Interpolaciones\n",
    "bilinear = cv2.resize(img_rgb, None, fx=2, fy=2, interpolation=cv2.INTER_LINEAR)\n",
    "bicubic = cv2.resize(img_rgb, None, fx=2, fy=2, interpolation=cv2.INTER_CUBIC)\n",
    "\n",
    "plt.figure(figsize=(12,4))\n",
    "plt.subplot(1, 3, 1); plt.title(\"Original\"); plt.imshow(img_rgb)\n",
    "plt.subplot(1, 3, 2); plt.title(\"Bilineal\"); plt.imshow(bilinear)\n",
    "plt.subplot(1, 3, 3); plt.title(\"Bicúbica\"); plt.imshow(bicubic)\n",
    "plt.show()"
   ]
  },
  {
   "cell_type": "markdown",
   "id": "90f3d6e7",
   "metadata": {},
   "source": [
    "## 2. Multi-frame Super Resolution (simulado)"
   ]
  },
  {
   "cell_type": "code",
   "execution_count": null,
   "id": "cbcf9b71",
   "metadata": {},
   "outputs": [],
   "source": [
    "img_gray = cv2.cvtColor(img, cv2.COLOR_BGR2GRAY)\n",
    "img_float = img_as_float(img_gray)\n",
    "\n",
    "# Simular desplazamientos\n",
    "def downsample(img):\n",
    "    return cv2.resize(img, (0, 0), fx=0.5, fy=0.5)\n",
    "\n",
    "shifts = [(0, 0), (1, 1), (-1, -1)]\n",
    "imgs_lr = []\n",
    "for dx, dy in shifts:\n",
    "    tform = AffineTransform(translation=(dx, dy))\n",
    "    warped = warp(img_float, tform.inverse)\n",
    "    imgs_lr.append(downsample(warped))\n",
    "\n",
    "imgs_up = [cv2.resize(i, (img_float.shape[1], img_float.shape[0]), interpolation=cv2.INTER_CUBIC)\n",
    "           for i in imgs_lr]\n",
    "sr_avg = np.mean(imgs_up, axis=0)\n",
    "\n",
    "plt.imshow(sr_avg, cmap='gray'); plt.title(\"Multi-frame SR (Media)\")\n",
    "plt.axis('off')\n",
    "plt.show()"
   ]
  },
  {
   "cell_type": "markdown",
   "id": "5dfc0594",
   "metadata": {},
   "source": [
    "## 3. Sparse Representation (simulado)"
   ]
  },
  {
   "cell_type": "code",
   "execution_count": null,
   "id": "4e1c1bac",
   "metadata": {},
   "outputs": [],
   "source": [
    "np.random.seed(0)\n",
    "D_LR = normalize(np.random.rand(64, 256))\n",
    "D_HR = normalize(np.random.rand(64, 256))\n",
    "\n",
    "patches = extract_patches_2d(img_gray, (8, 8), max_patches=1000)\n",
    "patches = patches.reshape((patches.shape[0], -1))\n",
    "\n",
    "coder = SparseCoder(dictionary=D_LR, transform_n_nonzero_coefs=5, transform_algorithm='omp')\n",
    "alpha = coder.transform(patches)\n",
    "recon_patches = np.dot(alpha, D_HR.T)\n",
    "recon_patches = recon_patches.reshape((-1, 8, 8))\n",
    "output_sparse = reconstruct_from_patches_2d(recon_patches, img_gray.shape)\n",
    "\n",
    "plt.imshow(output_sparse, cmap='gray'); plt.title(\"Sparse Coding SR\")\n",
    "plt.axis('off')\n",
    "plt.show()"
   ]
  },
  {
   "cell_type": "markdown",
   "id": "ed106902",
   "metadata": {},
   "source": [
    "## 4. Edge-Directed Interpolation (simplificado)"
   ]
  },
  {
   "cell_type": "code",
   "execution_count": null,
   "id": "0dc4c14b",
   "metadata": {},
   "outputs": [],
   "source": [
    "edge_map = sobel(img_float)\n",
    "upsampled = resize(img_float, (img_float.shape[0]*2, img_float.shape[1]*2), order=1)\n",
    "sharp = upsampled + 0.3 * resize(edge_map, upsampled.shape)\n",
    "\n",
    "plt.imshow(sharp, cmap='gray'); plt.title(\"Edge-Directed Interpolation\")\n",
    "plt.axis('off')\n",
    "plt.show()"
   ]
  },
  {
   "cell_type": "markdown",
   "id": "0969b727",
   "metadata": {},
   "source": [
    "## 5. Neighbor Embedding (simulado)"
   ]
  },
  {
   "cell_type": "code",
   "execution_count": null,
   "id": "5a8f0b34",
   "metadata": {},
   "outputs": [],
   "source": [
    "num_patches = 500\n",
    "D_LR = np.random.rand(num_patches, 64)\n",
    "D_HR = np.random.rand(num_patches, 64)\n",
    "patch_test = np.random.rand(64).reshape(1, -1)\n",
    "\n",
    "# Vecinos más cercanos\n",
    "nn = NearestNeighbors(n_neighbors=5).fit(D_LR)\n",
    "_, indices = nn.kneighbors(patch_test)\n",
    "neighs = D_LR[indices[0]]\n",
    "dists = np.linalg.norm(neighs - patch_test, axis=1)\n",
    "weights = 1 / (dists + 1e-6)\n",
    "weights /= weights.sum()\n",
    "hr_patch = np.sum(weights[:, None] * D_HR[indices[0]], axis=0)\n",
    "\n",
    "plt.plot(hr_patch)\n",
    "plt.title(\"Reconstrucción de parche HR\")\n",
    "plt.grid(True)\n",
    "plt.show()"
   ]
  }
 ],
 "metadata": {},
 "nbformat": 4,
 "nbformat_minor": 5
}