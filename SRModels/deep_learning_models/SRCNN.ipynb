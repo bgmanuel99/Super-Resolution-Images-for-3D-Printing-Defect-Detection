{
 "cells": [
  {
   "cell_type": "code",
   "execution_count": 1,
   "id": "b62c01c6",
   "metadata": {},
   "outputs": [],
   "source": [
    "import os\n",
    "import sys\n",
    "import datetime\n",
    "\n",
    "import pickle\n",
    "import numpy as np\n",
    "from sklearn.model_selection import train_test_split\n",
    "\n",
    "sys.path.append(os.path.abspath(os.path.join(os.getcwd(), \"../../\")))\n",
    "from SRModels.loading_methods import load_dataset_as_patches\n",
    "from SRModels.deep_learning_models.SRCNN_model import SRCNNModel\n",
    "from SRModels.constants import SRCNN_PATCH_SIZE, SRCNN_STRIDE, RANDOM_SEED"
   ]
  },
  {
   "cell_type": "code",
   "execution_count": 2,
   "id": "e1ed6dbd",
   "metadata": {},
   "outputs": [],
   "source": [
    "HR_ROOT = os.path.abspath(os.path.join(os.getcwd(), \"../../data/images/HR\"))\n",
    "LR_ROOT = os.path.abspath(os.path.join(os.getcwd(), \"../../data/images/LR\"))\n",
    "INTERP_MAP_PATH = os.path.abspath(os.path.join(os.getcwd(), \"../../data/images/interpolation_map.pkl\"))"
   ]
  },
  {
   "cell_type": "code",
   "execution_count": 3,
   "id": "495338f5",
   "metadata": {},
   "outputs": [
    {
     "name": "stdout",
     "output_type": "stream",
     "text": [
      "X shape: (333251, 24, 24, 3), Y shape: (333251, 24, 24, 3)\n",
      "X_train shape: (269932, 24, 24, 3), Y_train shape: (269932, 24, 24, 3)\n",
      "X_val shape: (29993, 24, 24, 3), Y_val shape: (29993, 24, 24, 3)\n",
      "X_test shape: (33326, 24, 24, 3), Y_test shape: (33326, 24, 24, 3)\n"
     ]
    }
   ],
   "source": [
    "# X -> Low-resolution patches (model input) (Low-resolution images with same size as Y but noised)\n",
    "# Y -> High-resolution patches (target)\n",
    "X, Y, hr_h, hr_w = load_dataset_as_patches(HR_ROOT, LR_ROOT, mode=\"srcnn\", patch_size=SRCNN_PATCH_SIZE, stride=SRCNN_STRIDE, interpolation_map_path=INTERP_MAP_PATH)\n",
    "\n",
    "# Reduce dataset size with percentage\n",
    "X = X[:int(0.7 * len(X))]\n",
    "Y = Y[:int(0.7 * len(Y))]\n",
    "\n",
    "X_train, X_test, Y_train, Y_test = train_test_split(X, Y, test_size=0.1, shuffle=True, random_state=RANDOM_SEED)\n",
    "X_train, X_val, Y_train, Y_val = train_test_split(X_train, Y_train, test_size=0.1, shuffle=True, random_state=RANDOM_SEED)\n",
    "\n",
    "print(f\"X shape: {X.shape}, Y shape: {Y.shape}\")\n",
    "print(f\"X_train shape: {X_train.shape}, Y_train shape: {Y_train.shape}\")\n",
    "print(f\"X_val shape: {X_val.shape}, Y_val shape: {Y_val.shape}\")\n",
    "print(f\"X_test shape: {X_test.shape}, Y_test shape: {Y_test.shape}\")"
   ]
  },
  {
   "cell_type": "code",
   "execution_count": 4,
   "id": "1aa44862",
   "metadata": {},
   "outputs": [
    {
     "name": "stdout",
     "output_type": "stream",
     "text": [
      "Model: \"sequential\"\n",
      "_________________________________________________________________\n",
      " Layer (type)                Output Shape              Param #   \n",
      "=================================================================\n",
      " conv2d (Conv2D)             (None, 24, 24, 96)        23424     \n",
      "                                                                 \n",
      " conv2d_1 (Conv2D)           (None, 24, 24, 32)        3104      \n",
      "                                                                 \n",
      " conv2d_2 (Conv2D)           (None, 24, 24, 3)         2403      \n",
      "                                                                 \n",
      "=================================================================\n",
      "Total params: 28,931\n",
      "Trainable params: 28,931\n",
      "Non-trainable params: 0\n",
      "_________________________________________________________________\n"
     ]
    }
   ],
   "source": [
    "model = SRCNNModel()\n",
    "\n",
    "model.setup_model(input_shape=X_train.shape[1:], learning_rate=1e-4)"
   ]
  },
  {
   "cell_type": "code",
   "execution_count": 5,
   "id": "9352967c",
   "metadata": {},
   "outputs": [
    {
     "name": "stdout",
     "output_type": "stream",
     "text": [
      "Training on GPU: /physical_device:GPU:0\n",
      "Epoch 1/100\n",
      "8436/8436 [==============================] - 35s 4ms/step - loss: 0.0321 - psnr: 29.1668 - ssim: 0.8019 - val_loss: 0.0282 - val_psnr: 30.1107 - val_ssim: 0.8142 - lr: 1.0000e-04 - epoch_time_sec: 34.8530 - gpu_mean_current_mb: 3756.6389 - gpu_peak_mb: 3999.7629\n",
      "Epoch 2/100\n",
      "8436/8436 [==============================] - 36s 4ms/step - loss: 0.0283 - psnr: 30.0607 - ssim: 0.8136 - val_loss: 0.0279 - val_psnr: 30.1962 - val_ssim: 0.8160 - lr: 1.0000e-04 - epoch_time_sec: 35.8175 - gpu_mean_current_mb: 3954.4885 - gpu_peak_mb: 3999.7629\n",
      "Epoch 3/100\n",
      "8436/8436 [==============================] - 35s 4ms/step - loss: 0.0281 - psnr: 30.1509 - ssim: 0.8151 - val_loss: 0.0279 - val_psnr: 30.1742 - val_ssim: 0.8164 - lr: 1.0000e-04 - epoch_time_sec: 35.0484 - gpu_mean_current_mb: 3954.4885 - gpu_peak_mb: 3999.7629\n",
      "Epoch 4/100\n",
      "8436/8436 [==============================] - 47s 6ms/step - loss: 0.0279 - psnr: 30.1978 - ssim: 0.8161 - val_loss: 0.0278 - val_psnr: 30.2265 - val_ssim: 0.8186 - lr: 1.0000e-04 - epoch_time_sec: 46.6300 - gpu_mean_current_mb: 3954.4885 - gpu_peak_mb: 3999.7629\n",
      "Epoch 5/100\n",
      "8436/8436 [==============================] - 45s 5ms/step - loss: 0.0278 - psnr: 30.2309 - ssim: 0.8168 - val_loss: 0.0276 - val_psnr: 30.2967 - val_ssim: 0.8186 - lr: 1.0000e-04 - epoch_time_sec: 44.8651 - gpu_mean_current_mb: 3954.4885 - gpu_peak_mb: 3999.7629\n",
      "Epoch 6/100\n",
      "8436/8436 [==============================] - 34s 4ms/step - loss: 0.0277 - psnr: 30.2541 - ssim: 0.8173 - val_loss: 0.0276 - val_psnr: 30.2827 - val_ssim: 0.8206 - lr: 1.0000e-04 - epoch_time_sec: 34.3068 - gpu_mean_current_mb: 3954.4885 - gpu_peak_mb: 3999.7629\n",
      "Epoch 7/100\n",
      "8425/8436 [============================>.] - ETA: 0s - loss: 0.0277 - psnr: 30.2718 - ssim: 0.8177\n",
      "Epoch 7: ReduceLROnPlateau reducing learning rate to 4.999999873689376e-05.\n",
      "8436/8436 [==============================] - 35s 4ms/step - loss: 0.0277 - psnr: 30.2719 - ssim: 0.8177 - val_loss: 0.0279 - val_psnr: 30.1277 - val_ssim: 0.8210 - lr: 1.0000e-04 - epoch_time_sec: 34.6102 - gpu_mean_current_mb: 3954.4886 - gpu_peak_mb: 3999.7629\n",
      "Epoch 8/100\n",
      "8436/8436 [==============================] - 35s 4ms/step - loss: 0.0275 - psnr: 30.3352 - ssim: 0.8182 - val_loss: 0.0274 - val_psnr: 30.4012 - val_ssim: 0.8193 - lr: 5.0000e-05 - epoch_time_sec: 34.9371 - gpu_mean_current_mb: 3954.4888 - gpu_peak_mb: 3999.7629\n",
      "Epoch 9/100\n",
      "8436/8436 [==============================] - 36s 4ms/step - loss: 0.0275 - psnr: 30.3403 - ssim: 0.8185 - val_loss: 0.0273 - val_psnr: 30.3806 - val_ssim: 0.8199 - lr: 5.0000e-05 - epoch_time_sec: 35.7854 - gpu_mean_current_mb: 3954.4888 - gpu_peak_mb: 3999.7629\n",
      "Epoch 10/100\n",
      "8436/8436 [==============================] - 35s 4ms/step - loss: 0.0275 - psnr: 30.3486 - ssim: 0.8187 - val_loss: 0.0272 - val_psnr: 30.4350 - val_ssim: 0.8207 - lr: 5.0000e-05 - epoch_time_sec: 35.3687 - gpu_mean_current_mb: 3954.4888 - gpu_peak_mb: 3999.7629\n",
      "Epoch 11/100\n",
      "8436/8436 [==============================] - 35s 4ms/step - loss: 0.0275 - psnr: 30.3556 - ssim: 0.8189 - val_loss: 0.0273 - val_psnr: 30.4230 - val_ssim: 0.8210 - lr: 5.0000e-05 - epoch_time_sec: 34.6274 - gpu_mean_current_mb: 3954.4888 - gpu_peak_mb: 3999.7629\n",
      "Epoch 12/100\n",
      "8432/8436 [============================>.] - ETA: 0s - loss: 0.0274 - psnr: 30.3629 - ssim: 0.8191\n",
      "Epoch 12: ReduceLROnPlateau reducing learning rate to 2.499999936844688e-05.\n",
      "8436/8436 [==============================] - 35s 4ms/step - loss: 0.0274 - psnr: 30.3627 - ssim: 0.8191 - val_loss: 0.0275 - val_psnr: 30.2904 - val_ssim: 0.8213 - lr: 5.0000e-05 - epoch_time_sec: 34.9470 - gpu_mean_current_mb: 3954.4888 - gpu_peak_mb: 3999.7629\n",
      "Epoch 13/100\n",
      "8436/8436 [==============================] - 40s 5ms/step - loss: 0.0274 - psnr: 30.3957 - ssim: 0.8195 - val_loss: 0.0272 - val_psnr: 30.4541 - val_ssim: 0.8205 - lr: 2.5000e-05 - epoch_time_sec: 40.0033 - gpu_mean_current_mb: 3954.4888 - gpu_peak_mb: 3999.7629\n",
      "Epoch 14/100\n",
      "8433/8436 [============================>.] - ETA: 0s - loss: 0.0274 - psnr: 30.3988 - ssim: 0.8196\n",
      "Epoch 14: ReduceLROnPlateau reducing learning rate to 1.249999968422344e-05.\n",
      "8436/8436 [==============================] - 35s 4ms/step - loss: 0.0274 - psnr: 30.3988 - ssim: 0.8196 - val_loss: 0.0272 - val_psnr: 30.4446 - val_ssim: 0.8216 - lr: 2.5000e-05 - epoch_time_sec: 34.6578 - gpu_mean_current_mb: 3954.4888 - gpu_peak_mb: 3999.7629\n",
      "Epoch 15/100\n",
      "8436/8436 [==============================] - 38s 5ms/step - loss: 0.0273 - psnr: 30.4179 - ssim: 0.8198 - val_loss: 0.0271 - val_psnr: 30.4690 - val_ssim: 0.8224 - lr: 1.2500e-05 - epoch_time_sec: 38.1793 - gpu_mean_current_mb: 3954.4888 - gpu_peak_mb: 3999.7629\n",
      "Epoch 16/100\n",
      "8436/8436 [==============================] - 40s 5ms/step - loss: 0.0273 - psnr: 30.4200 - ssim: 0.8199 - val_loss: 0.0271 - val_psnr: 30.4817 - val_ssim: 0.8206 - lr: 1.2500e-05 - epoch_time_sec: 39.7894 - gpu_mean_current_mb: 3954.4888 - gpu_peak_mb: 3999.7629\n",
      "Epoch 17/100\n",
      "8429/8436 [============================>.] - ETA: 0s - loss: 0.0273 - psnr: 30.4218 - ssim: 0.8200\n",
      "Epoch 17: ReduceLROnPlateau reducing learning rate to 6.24999984211172e-06.\n",
      "8436/8436 [==============================] - 37s 4ms/step - loss: 0.0273 - psnr: 30.4220 - ssim: 0.8200 - val_loss: 0.0271 - val_psnr: 30.4858 - val_ssim: 0.8216 - lr: 1.2500e-05 - epoch_time_sec: 36.7351 - gpu_mean_current_mb: 3954.4888 - gpu_peak_mb: 3999.7629\n",
      "Epoch 18/100\n",
      "8436/8436 [==============================] - 41s 5ms/step - loss: 0.0273 - psnr: 30.4325 - ssim: 0.8201 - val_loss: 0.0271 - val_psnr: 30.4964 - val_ssim: 0.8214 - lr: 6.2500e-06 - epoch_time_sec: 40.5543 - gpu_mean_current_mb: 3954.4888 - gpu_peak_mb: 3999.7629\n",
      "Epoch 19/100\n",
      "8435/8436 [============================>.] - ETA: 0s - loss: 0.0273 - psnr: 30.4333 - ssim: 0.8202\n",
      "Epoch 19: ReduceLROnPlateau reducing learning rate to 3.12499992105586e-06.\n",
      "8436/8436 [==============================] - 40s 5ms/step - loss: 0.0273 - psnr: 30.4333 - ssim: 0.8202 - val_loss: 0.0271 - val_psnr: 30.4982 - val_ssim: 0.8209 - lr: 6.2500e-06 - epoch_time_sec: 39.8369 - gpu_mean_current_mb: 3954.4888 - gpu_peak_mb: 3999.7629\n",
      "Epoch 20/100\n",
      "8436/8436 [==============================] - 34s 4ms/step - loss: 0.0273 - psnr: 30.4394 - ssim: 0.8202 - val_loss: 0.0271 - val_psnr: 30.5017 - val_ssim: 0.8207 - lr: 3.1250e-06 - epoch_time_sec: 34.4734 - gpu_mean_current_mb: 3954.4888 - gpu_peak_mb: 3999.7629\n",
      "Epoch 21/100\n",
      "8434/8436 [============================>.] - ETA: 0s - loss: 0.0273 - psnr: 30.4398 - ssim: 0.8203\n",
      "Epoch 21: ReduceLROnPlateau reducing learning rate to 1.56249996052793e-06.\n",
      "8436/8436 [==============================] - 35s 4ms/step - loss: 0.0273 - psnr: 30.4398 - ssim: 0.8202 - val_loss: 0.0271 - val_psnr: 30.4898 - val_ssim: 0.8222 - lr: 3.1250e-06 - epoch_time_sec: 34.8962 - gpu_mean_current_mb: 3954.4888 - gpu_peak_mb: 3999.7629\n",
      "Epoch 22/100\n",
      "8436/8436 [==============================] - 34s 4ms/step - loss: 0.0272 - psnr: 30.4431 - ssim: 0.8203 - val_loss: 0.0271 - val_psnr: 30.4939 - val_ssim: 0.8217 - lr: 1.5625e-06 - epoch_time_sec: 34.3627 - gpu_mean_current_mb: 3954.4888 - gpu_peak_mb: 3999.7629\n",
      "Epoch 23/100\n",
      "8435/8436 [============================>.] - ETA: 0s - loss: 0.0272 - psnr: 30.4436 - ssim: 0.8203\n",
      "Epoch 23: ReduceLROnPlateau reducing learning rate to 7.81249980263965e-07.\n",
      "8436/8436 [==============================] - 34s 4ms/step - loss: 0.0272 - psnr: 30.4435 - ssim: 0.8203 - val_loss: 0.0271 - val_psnr: 30.5040 - val_ssim: 0.8216 - lr: 1.5625e-06 - epoch_time_sec: 34.2772 - gpu_mean_current_mb: 3954.4888 - gpu_peak_mb: 3999.7629\n",
      "Epoch 24/100\n",
      "8436/8436 [==============================] - 36s 4ms/step - loss: 0.0272 - psnr: 30.4452 - ssim: 0.8203 - val_loss: 0.0271 - val_psnr: 30.5044 - val_ssim: 0.8216 - lr: 7.8125e-07 - epoch_time_sec: 35.5278 - gpu_mean_current_mb: 3954.4888 - gpu_peak_mb: 3999.7629\n",
      "Epoch 25/100\n",
      "8431/8436 [============================>.] - ETA: 0s - loss: 0.0272 - psnr: 30.4454 - ssim: 0.8203\n",
      "Epoch 25: ReduceLROnPlateau reducing learning rate to 3.906249901319825e-07.\n",
      "8436/8436 [==============================] - 38s 4ms/step - loss: 0.0272 - psnr: 30.4453 - ssim: 0.8203 - val_loss: 0.0271 - val_psnr: 30.5039 - val_ssim: 0.8217 - lr: 7.8125e-07 - epoch_time_sec: 37.7590 - gpu_mean_current_mb: 3954.4888 - gpu_peak_mb: 3999.7629\n",
      "Epoch 26/100\n",
      "8436/8436 [==============================] - 39s 5ms/step - loss: 0.0272 - psnr: 30.4462 - ssim: 0.8204 - val_loss: 0.0271 - val_psnr: 30.5018 - val_ssim: 0.8215 - lr: 3.9062e-07 - epoch_time_sec: 38.8462 - gpu_mean_current_mb: 3954.4888 - gpu_peak_mb: 3999.7629\n",
      "Epoch 27/100\n",
      "8428/8436 [============================>.] - ETA: 0s - loss: 0.0272 - psnr: 30.4467 - ssim: 0.8204\n",
      "Epoch 27: ReduceLROnPlateau reducing learning rate to 1.9531249506599124e-07.\n",
      "8436/8436 [==============================] - 42s 5ms/step - loss: 0.0272 - psnr: 30.4463 - ssim: 0.8204 - val_loss: 0.0271 - val_psnr: 30.5040 - val_ssim: 0.8216 - lr: 3.9062e-07 - epoch_time_sec: 41.8319 - gpu_mean_current_mb: 3954.4888 - gpu_peak_mb: 3999.7629\n",
      "Epoch 28/100\n",
      "8436/8436 [==============================] - 47s 6ms/step - loss: 0.0272 - psnr: 30.4468 - ssim: 0.8204 - val_loss: 0.0271 - val_psnr: 30.5032 - val_ssim: 0.8216 - lr: 1.9531e-07 - epoch_time_sec: 46.7634 - gpu_mean_current_mb: 3954.4888 - gpu_peak_mb: 3999.7629\n",
      "Epoch 29/100\n",
      "8430/8436 [============================>.] - ETA: 0s - loss: 0.0272 - psnr: 30.4468 - ssim: 0.8203\n",
      "Epoch 29: ReduceLROnPlateau reducing learning rate to 1e-07.\n",
      "8436/8436 [==============================] - 44s 5ms/step - loss: 0.0272 - psnr: 30.4467 - ssim: 0.8204 - val_loss: 0.0271 - val_psnr: 30.5024 - val_ssim: 0.8219 - lr: 1.9531e-07 - epoch_time_sec: 44.4440 - gpu_mean_current_mb: 3954.4888 - gpu_peak_mb: 3999.7629\n",
      "Epoch 30/100\n",
      "8436/8436 [==============================] - 39s 5ms/step - loss: 0.0272 - psnr: 30.4469 - ssim: 0.8204 - val_loss: 0.0271 - val_psnr: 30.5049 - val_ssim: 0.8215 - lr: 1.0000e-07 - epoch_time_sec: 39.4803 - gpu_mean_current_mb: 3954.4888 - gpu_peak_mb: 3999.7629\n",
      "Epoch 31/100\n",
      "8436/8436 [==============================] - 38s 4ms/step - loss: 0.0272 - psnr: 30.4471 - ssim: 0.8204 - val_loss: 0.0271 - val_psnr: 30.5045 - val_ssim: 0.8217 - lr: 1.0000e-07 - epoch_time_sec: 37.6304 - gpu_mean_current_mb: 3954.4888 - gpu_peak_mb: 3999.7629\n",
      "Epoch 32/100\n",
      "8436/8436 [==============================] - 38s 5ms/step - loss: 0.0272 - psnr: 30.4471 - ssim: 0.8204 - val_loss: 0.0271 - val_psnr: 30.5041 - val_ssim: 0.8217 - lr: 1.0000e-07 - epoch_time_sec: 38.1862 - gpu_mean_current_mb: 3954.4888 - gpu_peak_mb: 3999.7629\n",
      "Epoch 33/100\n",
      "8436/8436 [==============================] - 35s 4ms/step - loss: 0.0272 - psnr: 30.4471 - ssim: 0.8204 - val_loss: 0.0271 - val_psnr: 30.5041 - val_ssim: 0.8216 - lr: 1.0000e-07 - epoch_time_sec: 35.4878 - gpu_mean_current_mb: 3954.5310 - gpu_peak_mb: 3999.7629\n"
     ]
    }
   ],
   "source": [
    "# Train SRCNN and capture callbacks for metrics\n",
    "time_cb, mem_cb = model.fit(\n",
    "    X_train, Y_train, X_val, Y_val,\n",
    "    batch_size=32,\n",
    "    epochs=100\n",
    ")"
   ]
  },
  {
   "cell_type": "code",
   "execution_count": 6,
   "id": "8a4e449b",
   "metadata": {},
   "outputs": [
    {
     "name": "stdout",
     "output_type": "stream",
     "text": [
      "1042/1042 [==============================] - 4s 3ms/step - loss: 0.0272 - psnr: 30.4773 - ssim: 0.8213\n",
      "Loss: 0.0272, PSNR: 30.48 dB, SSIM: 0.8213\n",
      "{'eval_loss': 0.027160510420799255, 'eval_psnr': 30.47734832763672, 'eval_ssim': 0.821340024471283, 'epoch_time_sec': 37.743002903030295, 'memory': {'gpu_mean_current_mb': 3948.494558623343, 'gpu_peak_mb': 3999.762939453125}}\n"
     ]
    }
   ],
   "source": [
    "# Evaluate and prepare metrics dictionary\n",
    "results = model.evaluate(X_test, Y_test)\n",
    "metrics_dict = {\n",
    "    \"eval_loss\": float(results[0]),\n",
    "    \"eval_psnr\": float(results[1]),\n",
    "    \"eval_ssim\": float(results[2]),\n",
    "    \"epoch_time_sec\": time_cb.mean_time_value(),\n",
    "    \"memory\": mem_cb.as_dict()\n",
    "}\n",
    "print(metrics_dict)"
   ]
  },
  {
   "cell_type": "code",
   "execution_count": 7,
   "id": "b4748ed2",
   "metadata": {},
   "outputs": [
    {
     "name": "stdout",
     "output_type": "stream",
     "text": [
      "Model saved to models/SRCNN/SRCNN_20250909_160258\\SRCNN_20250909_160258.h5\n"
     ]
    }
   ],
   "source": [
    "timestamp = datetime.datetime.now().strftime(\"%Y%m%d_%H%M%S\")\n",
    "\n",
    "# Save the trained model\n",
    "model.save(directory=f\"models/SRCNN/SRCNN_{timestamp}\", timestamp=timestamp)\n",
    "\n",
    "# Save hr_h and hr_w for later use in the reconstruction of the images\n",
    "with open(os.path.abspath(os.path.join(os.getcwd(), f\"models/SRCNN/SRCNN_{timestamp}/SRCNN_{timestamp}_hrh_hrw.pkl\")), \"wb\") as f:\n",
    "    pickle.dump((hr_h, hr_w), f)"
   ]
  },
  {
   "cell_type": "code",
   "execution_count": 8,
   "id": "637bfd07",
   "metadata": {},
   "outputs": [
    {
     "name": "stdout",
     "output_type": "stream",
     "text": [
      "Saved metrics to c:\\Users\\bgmanuel\\InteligenciaArtificial\\MasterInteligenciaArtificial\\Periodo2\\TFM\\Super-Resolution-Images-for-3D-Printing-Defect-Detection\\SRModels\\deep_learning_models\\models\\SRCNN\\SRCNN_20250909_160258\\SRCNN_20250909_160258_metrics.pkl\n"
     ]
    }
   ],
   "source": [
    "# Save evaluation/time/memory metrics next to the model\n",
    "metrics_path = os.path.abspath(os.path.join(os.getcwd(), f\"models/SRCNN/SRCNN_{timestamp}/SRCNN_{timestamp}_metrics.pkl\"))\n",
    "\n",
    "with open(metrics_path, \"wb\") as f:\n",
    "    pickle.dump(metrics_dict, f)\n",
    "    \n",
    "print(f\"Saved metrics to {metrics_path}\")"
   ]
  }
 ],
 "metadata": {
  "kernelspec": {
   "display_name": "py310",
   "language": "python",
   "name": "python3"
  },
  "language_info": {
   "codemirror_mode": {
    "name": "ipython",
    "version": 3
   },
   "file_extension": ".py",
   "mimetype": "text/x-python",
   "name": "python",
   "nbconvert_exporter": "python",
   "pygments_lexer": "ipython3",
   "version": "3.10.18"
  }
 },
 "nbformat": 4,
 "nbformat_minor": 5
}
