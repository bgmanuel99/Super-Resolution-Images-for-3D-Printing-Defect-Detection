{
 "cells": [
  {
   "cell_type": "code",
   "execution_count": 1,
   "id": "b62c01c6",
   "metadata": {},
   "outputs": [],
   "source": [
    "import os\n",
    "import sys\n",
    "import datetime\n",
    "\n",
    "import pickle\n",
    "import numpy as np\n",
    "from sklearn.model_selection import train_test_split\n",
    "\n",
    "sys.path.append(os.path.abspath(os.path.join(os.getcwd(), \"../../\")))\n",
    "from SRModels.loading_methods import load_dataset_as_patches\n",
    "from SRModels.deep_learning_models.SRCNN_model import SRCNNModel\n",
    "from SRModels.constants import SRCNN_PATCH_SIZE, SRCNN_STRIDE, RANDOM_SEED"
   ]
  },
  {
   "cell_type": "code",
   "execution_count": 2,
   "id": "e1ed6dbd",
   "metadata": {},
   "outputs": [],
   "source": [
    "HR_ROOT = os.path.abspath(os.path.join(os.getcwd(), \"../../data/images/HR\"))\n",
    "LR_ROOT = os.path.abspath(os.path.join(os.getcwd(), \"../../data/images/LR\"))\n",
    "INTERP_MAP_PATH = os.path.abspath(os.path.join(os.getcwd(), \"../../data/images/interpolation_map.pkl\"))"
   ]
  },
  {
   "cell_type": "code",
   "execution_count": 3,
   "id": "495338f5",
   "metadata": {},
   "outputs": [],
   "source": [
    "# X -> Low-resolution patches (model input) (Low-resolution images with same size as Y but noised)\n",
    "# Y -> High-resolution patches (target)\n",
    "X, Y, hr_h, hr_w = load_dataset_as_patches(HR_ROOT, LR_ROOT, mode=\"srcnn\", patch_size=SRCNN_PATCH_SIZE, stride=SRCNN_STRIDE, interpolation_map_path=INTERP_MAP_PATH)\n",
    "\n",
    "# Set percentage to keep (e.g., 50% of the data)\n",
    "keep_pct = 0.5\n",
    "\n",
    "# Shuffle indices\n",
    "num_samples = X.shape[0]\n",
    "indices = np.arange(num_samples)\n",
    "np.random.seed(RANDOM_SEED)\n",
    "np.random.shuffle(indices)\n",
    "\n",
    "# Select the first N indices\n",
    "N = int(num_samples * keep_pct)\n",
    "selected_idx = indices[:N]\n",
    "\n",
    "# Reduce X and Y\n",
    "X_small = X[selected_idx]\n",
    "Y_small = Y[selected_idx]\n",
    "\n",
    "X_train, X_test, Y_train, Y_test = train_test_split(X_small, Y_small, test_size=0.2, shuffle=True, random_state=RANDOM_SEED)\n",
    "X_train, X_val, Y_train, Y_val = train_test_split(X_train, Y_train, test_size=0.1, shuffle=True, random_state=RANDOM_SEED)"
   ]
  },
  {
   "cell_type": "code",
   "execution_count": 4,
   "id": "7e710ab8",
   "metadata": {},
   "outputs": [
    {
     "name": "stdout",
     "output_type": "stream",
     "text": [
      "X shape: (163296, 48, 48, 3), Y shape: (163296, 48, 48, 3)\n",
      "X_train shape: (58786, 48, 48, 3), Y_train shape: (58786, 48, 48, 3)\n",
      "X_val shape: (6532, 48, 48, 3), Y_val shape: (6532, 48, 48, 3)\n",
      "X_test shape: (16330, 48, 48, 3), Y_test shape: (16330, 48, 48, 3)\n"
     ]
    }
   ],
   "source": [
    "print(f\"X shape: {X.shape}, Y shape: {Y.shape}\")\n",
    "print(f\"X_train shape: {X_train.shape}, Y_train shape: {Y_train.shape}\")\n",
    "print(f\"X_val shape: {X_val.shape}, Y_val shape: {Y_val.shape}\")\n",
    "print(f\"X_test shape: {X_test.shape}, Y_test shape: {Y_test.shape}\")"
   ]
  },
  {
   "cell_type": "code",
   "execution_count": 5,
   "id": "1aa44862",
   "metadata": {},
   "outputs": [
    {
     "name": "stdout",
     "output_type": "stream",
     "text": [
      "Model: \"sequential\"\n",
      "_________________________________________________________________\n",
      " Layer (type)                Output Shape              Param #   \n",
      "=================================================================\n",
      " conv2d (Conv2D)             (None, 48, 48, 64)        15616     \n",
      "                                                                 \n",
      " conv2d_1 (Conv2D)           (None, 48, 48, 32)        2080      \n",
      "                                                                 \n",
      " conv2d_2 (Conv2D)           (None, 48, 48, 3)         2403      \n",
      "                                                                 \n",
      "=================================================================\n",
      "Total params: 20,099\n",
      "Trainable params: 20,099\n",
      "Non-trainable params: 0\n",
      "_________________________________________________________________\n"
     ]
    }
   ],
   "source": [
    "model = SRCNNModel()\n",
    "\n",
    "model.setup_model(input_shape=X_train.shape[1:], learning_rate=1e-4, loss=\"mean_squared_error\")"
   ]
  },
  {
   "cell_type": "code",
   "execution_count": 6,
   "id": "9352967c",
   "metadata": {},
   "outputs": [
    {
     "name": "stdout",
     "output_type": "stream",
     "text": [
      "Training on GPU: /physical_device:GPU:0\n",
      "Epoch 1/200\n",
      "919/919 [==============================] - 38s 34ms/step - loss: 0.0228 - psnr: 19.1599 - ssim: 0.3371 - val_loss: 0.0061 - val_psnr: 23.5201 - val_ssim: 0.5424 - lr: 1.0000e-04 - epoch_time_sec: 37.5277 - gpu_mean_current_mb: 172.4012 - gpu_peak_mb: 501.6558\n",
      "Epoch 2/200\n",
      "919/919 [==============================] - 40s 44ms/step - loss: 0.0115 - psnr: 20.7165 - ssim: 0.3563 - val_loss: 0.0064 - val_psnr: 23.2022 - val_ssim: 0.5342 - lr: 1.0000e-04 - epoch_time_sec: 40.3421 - gpu_mean_current_mb: 344.7214 - gpu_peak_mb: 503.9307\n",
      "Epoch 3/200\n",
      "919/919 [==============================] - 59s 64ms/step - loss: 0.0115 - psnr: 20.7287 - ssim: 0.3571 - val_loss: 0.0062 - val_psnr: 23.5719 - val_ssim: 0.5412 - lr: 1.0000e-04 - epoch_time_sec: 58.8222 - gpu_mean_current_mb: 344.7214 - gpu_peak_mb: 509.0684\n",
      "Epoch 4/200\n",
      "919/919 [==============================] - 60s 65ms/step - loss: 0.0113 - psnr: 20.7919 - ssim: 0.3601 - val_loss: 0.0061 - val_psnr: 23.5989 - val_ssim: 0.5407 - lr: 1.0000e-04 - epoch_time_sec: 59.7874 - gpu_mean_current_mb: 344.7214 - gpu_peak_mb: 509.0684\n",
      "Epoch 5/200\n",
      "919/919 [==============================] - 60s 65ms/step - loss: 0.0113 - psnr: 20.8049 - ssim: 0.3575 - val_loss: 0.0062 - val_psnr: 23.4364 - val_ssim: 0.5350 - lr: 1.0000e-04 - epoch_time_sec: 59.6123 - gpu_mean_current_mb: 344.7214 - gpu_peak_mb: 509.3809\n",
      "Epoch 6/200\n",
      "919/919 [==============================] - ETA: 0s - loss: 0.0114 - psnr: 20.7733 - ssim: 0.3594\n",
      "Epoch 6: ReduceLROnPlateau reducing learning rate to 4.999999873689376e-05.\n",
      "919/919 [==============================] - 50s 54ms/step - loss: 0.0114 - psnr: 20.7733 - ssim: 0.3594 - val_loss: 0.0061 - val_psnr: 23.5505 - val_ssim: 0.5359 - lr: 1.0000e-04 - epoch_time_sec: 49.8440 - gpu_mean_current_mb: 344.7216 - gpu_peak_mb: 512.8701\n",
      "Epoch 7/200\n",
      "919/919 [==============================] - 55s 60ms/step - loss: 0.0113 - psnr: 20.8008 - ssim: 0.3587 - val_loss: 0.0063 - val_psnr: 23.3725 - val_ssim: 0.5331 - lr: 5.0000e-05 - epoch_time_sec: 54.8463 - gpu_mean_current_mb: 344.7217 - gpu_peak_mb: 512.8701\n",
      "Epoch 8/200\n",
      "919/919 [==============================] - 57s 62ms/step - loss: 0.0112 - psnr: 20.8416 - ssim: 0.3598 - val_loss: 0.0063 - val_psnr: 23.3950 - val_ssim: 0.5323 - lr: 5.0000e-05 - epoch_time_sec: 56.8542 - gpu_mean_current_mb: 344.7217 - gpu_peak_mb: 512.8701\n",
      "Epoch 9/200\n",
      "919/919 [==============================] - 57s 62ms/step - loss: 0.0113 - psnr: 20.8174 - ssim: 0.3574 - val_loss: 0.0063 - val_psnr: 23.4283 - val_ssim: 0.5294 - lr: 5.0000e-05 - epoch_time_sec: 57.0513 - gpu_mean_current_mb: 344.7217 - gpu_peak_mb: 512.8701\n",
      "Epoch 10/200\n",
      "919/919 [==============================] - ETA: 0s - loss: 0.0112 - psnr: 20.7921 - ssim: 0.3578\n",
      "Epoch 10: ReduceLROnPlateau reducing learning rate to 2.499999936844688e-05.\n",
      "919/919 [==============================] - 56s 61ms/step - loss: 0.0112 - psnr: 20.7921 - ssim: 0.3578 - val_loss: 0.0063 - val_psnr: 23.3549 - val_ssim: 0.5296 - lr: 5.0000e-05 - epoch_time_sec: 55.8423 - gpu_mean_current_mb: 344.7217 - gpu_peak_mb: 512.8701\n",
      "Epoch 11/200\n",
      "919/919 [==============================] - 55s 60ms/step - loss: 0.0112 - psnr: 20.8159 - ssim: 0.3571 - val_loss: 0.0065 - val_psnr: 23.1947 - val_ssim: 0.5252 - lr: 2.5000e-05 - epoch_time_sec: 55.0258 - gpu_mean_current_mb: 344.7217 - gpu_peak_mb: 512.8701\n"
     ]
    }
   ],
   "source": [
    "# Train SRCNN and capture callbacks for metrics\n",
    "time_cb, mem_cb = model.fit(\n",
    "    X_train, Y_train, X_val, Y_val,\n",
    "    batch_size=64,\n",
    "    epochs=200,\n",
    "    use_augmentation=True,\n",
    "    use_mix=True\n",
    ")"
   ]
  },
  {
   "cell_type": "code",
   "execution_count": 7,
   "id": "8a4e449b",
   "metadata": {},
   "outputs": [
    {
     "name": "stdout",
     "output_type": "stream",
     "text": [
      "511/511 [==============================] - 3s 6ms/step - loss: 0.0063 - psnr: 23.3914 - ssim: 0.5306\n",
      "Loss: 0.0063, PSNR: 23.39 dB, SSIM: 0.5306\n",
      "{'eval_loss': 0.006300096400082111, 'eval_psnr': 23.39139747619629, 'eval_ssim': 0.530609667301178, 'epoch_time_sec': 53.2323264727281, 'memory': {'gpu_mean_current_mb': 329.0560857599432, 'gpu_peak_mb': 512.8701171875}}\n"
     ]
    }
   ],
   "source": [
    "# Evaluate and prepare metrics dictionary\n",
    "results = model.evaluate(X_test, Y_test)\n",
    "metrics_dict = {\n",
    "    \"eval_loss\": float(results[0]),\n",
    "    \"eval_psnr\": float(results[1]),\n",
    "    \"eval_ssim\": float(results[2]),\n",
    "    \"epoch_time_sec\": time_cb.mean_time_value(),\n",
    "    \"memory\": mem_cb.as_dict()\n",
    "}\n",
    "print(metrics_dict)"
   ]
  },
  {
   "cell_type": "code",
   "execution_count": 8,
   "id": "b4748ed2",
   "metadata": {},
   "outputs": [
    {
     "name": "stdout",
     "output_type": "stream",
     "text": [
      "Model saved to models/SRCNN/SRCNN_20250908_160141\\SRCNN_20250908_160141.h5\n"
     ]
    }
   ],
   "source": [
    "timestamp = datetime.datetime.now().strftime(\"%Y%m%d_%H%M%S\")\n",
    "\n",
    "# Save the trained model\n",
    "model.save(directory=f\"models/SRCNN/SRCNN_{timestamp}\", timestamp=timestamp)\n",
    "\n",
    "# Save hr_h and hr_w for later use in the reconstruction of the images\n",
    "with open(os.path.abspath(os.path.join(os.getcwd(), f\"models/SRCNN/SRCNN_{timestamp}/SRCNN_{timestamp}_hrh_hrw.pkl\")), \"wb\") as f:\n",
    "    pickle.dump((hr_h, hr_w), f)"
   ]
  },
  {
   "cell_type": "code",
   "execution_count": 9,
   "id": "637bfd07",
   "metadata": {},
   "outputs": [
    {
     "name": "stdout",
     "output_type": "stream",
     "text": [
      "Saved metrics to c:\\Users\\bgmanuel\\InteligenciaArtificial\\MasterInteligenciaArtificial\\Periodo2\\TFM\\Super-Resolution-Images-for-3D-Printing-Defect-Detection\\SRModels\\deep_learning_models\\models\\SRCNN\\SRCNN_20250908_160141\\SRCNN_20250908_160141_metrics.pkl\n"
     ]
    }
   ],
   "source": [
    "# Save evaluation/time/memory metrics next to the model\n",
    "metrics_path = os.path.abspath(os.path.join(os.getcwd(), f\"models/SRCNN/SRCNN_{timestamp}/SRCNN_{timestamp}_metrics.pkl\"))\n",
    "\n",
    "with open(metrics_path, \"wb\") as f:\n",
    "    pickle.dump(metrics_dict, f)\n",
    "    \n",
    "print(f\"Saved metrics to {metrics_path}\")"
   ]
  }
 ],
 "metadata": {
  "kernelspec": {
   "display_name": "py310",
   "language": "python",
   "name": "python3"
  },
  "language_info": {
   "codemirror_mode": {
    "name": "ipython",
    "version": 3
   },
   "file_extension": ".py",
   "mimetype": "text/x-python",
   "name": "python",
   "nbconvert_exporter": "python",
   "pygments_lexer": "ipython3",
   "version": "3.10.18"
  }
 },
 "nbformat": 4,
 "nbformat_minor": 5
}
