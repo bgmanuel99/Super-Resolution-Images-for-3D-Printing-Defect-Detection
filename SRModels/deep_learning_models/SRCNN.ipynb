{
 "cells": [
  {
   "cell_type": "code",
   "execution_count": 1,
   "id": "b62c01c6",
   "metadata": {},
   "outputs": [],
   "source": [
    "import os\n",
    "import sys\n",
    "import datetime\n",
    "\n",
    "import pickle\n",
    "from sklearn.model_selection import train_test_split\n",
    "\n",
    "sys.path.append(os.path.abspath(os.path.join(os.getcwd(), \"../../\")))\n",
    "from SRModels.loading_methods import load_dataset_as_patches\n",
    "from SRModels.deep_learning_models.SRCNN_model import SRCNNModel\n",
    "from SRModels.constants import SRCNN_PATCH_SIZE, SRCNN_STRIDE, RANDOM_SEED"
   ]
  },
  {
   "cell_type": "code",
   "execution_count": 2,
   "id": "e1ed6dbd",
   "metadata": {},
   "outputs": [],
   "source": [
    "HR_ROOT = os.path.abspath(os.path.join(os.getcwd(), \"../../data/images/HR\"))\n",
    "LR_ROOT = os.path.abspath(os.path.join(os.getcwd(), \"../../data/images/LR\"))\n",
    "INTERP_MAP_PATH = os.path.abspath(os.path.join(os.getcwd(), \"../../data/images/interpolation_map.pkl\"))"
   ]
  },
  {
   "cell_type": "code",
   "execution_count": 3,
   "id": "495338f5",
   "metadata": {},
   "outputs": [
    {
     "name": "stdout",
     "output_type": "stream",
     "text": [
      "X shape: (333251, 24, 24, 3), Y shape: (333251, 24, 24, 3)\n",
      "X_train shape: (269932, 24, 24, 3), Y_train shape: (269932, 24, 24, 3)\n",
      "X_val shape: (29993, 24, 24, 3), Y_val shape: (29993, 24, 24, 3)\n",
      "X_test shape: (33326, 24, 24, 3), Y_test shape: (33326, 24, 24, 3)\n"
     ]
    }
   ],
   "source": [
    "# X -> Low-resolution patches (model input) (Low-resolution images with same size as Y but noised)\n",
    "# Y -> High-resolution patches (target)\n",
    "X, Y, hr_h, hr_w = load_dataset_as_patches(HR_ROOT, LR_ROOT, mode=\"srcnn\", patch_size=SRCNN_PATCH_SIZE, stride=SRCNN_STRIDE, interpolation_map_path=INTERP_MAP_PATH)\n",
    "\n",
    "# Reduce dataset size with percentage\n",
    "X = X[:int(0.7 * len(X))]\n",
    "Y = Y[:int(0.7 * len(Y))]\n",
    "\n",
    "X_train, X_test, Y_train, Y_test = train_test_split(X, Y, test_size=0.1, shuffle=True, random_state=RANDOM_SEED)\n",
    "X_train, X_val, Y_train, Y_val = train_test_split(X_train, Y_train, test_size=0.1, shuffle=True, random_state=RANDOM_SEED)\n",
    "\n",
    "print(f\"X shape: {X.shape}, Y shape: {Y.shape}\")\n",
    "print(f\"X_train shape: {X_train.shape}, Y_train shape: {Y_train.shape}\")\n",
    "print(f\"X_val shape: {X_val.shape}, Y_val shape: {Y_val.shape}\")\n",
    "print(f\"X_test shape: {X_test.shape}, Y_test shape: {Y_test.shape}\")"
   ]
  },
  {
   "cell_type": "code",
   "execution_count": 4,
   "id": "1aa44862",
   "metadata": {},
   "outputs": [
    {
     "name": "stdout",
     "output_type": "stream",
     "text": [
      "Model: \"sequential\"\n",
      "_________________________________________________________________\n",
      " Layer (type)                Output Shape              Param #   \n",
      "=================================================================\n",
      " conv2d (Conv2D)             (None, 24, 24, 96)        23424     \n",
      "                                                                 \n",
      " conv2d_1 (Conv2D)           (None, 24, 24, 32)        3104      \n",
      "                                                                 \n",
      " conv2d_2 (Conv2D)           (None, 24, 24, 3)         2403      \n",
      "                                                                 \n",
      "=================================================================\n",
      "Total params: 28,931\n",
      "Trainable params: 28,931\n",
      "Non-trainable params: 0\n",
      "_________________________________________________________________\n"
     ]
    }
   ],
   "source": [
    "model = SRCNNModel()\n",
    "\n",
    "model.setup_model(input_shape=X_train.shape[1:], learning_rate=1e-4)"
   ]
  },
  {
   "cell_type": "code",
   "execution_count": 5,
   "id": "9352967c",
   "metadata": {},
   "outputs": [
    {
     "name": "stdout",
     "output_type": "stream",
     "text": [
      "Training on GPU: /physical_device:GPU:0\n",
      "Epoch 1/100\n",
      "8436/8436 [==============================] - 48s 5ms/step - loss: 0.0318 - psnr: 29.2217 - ssim: 0.8009 - val_loss: 0.0281 - val_psnr: 30.1453 - val_ssim: 0.8146 - lr: 1.0000e-04 - epoch_time_sec: 48.3481 - gpu_mean_current_mb: 3756.6389 - gpu_peak_mb: 3999.8218\n",
      "Epoch 2/100\n",
      "8436/8436 [==============================] - 40s 5ms/step - loss: 0.0283 - psnr: 30.0827 - ssim: 0.8141 - val_loss: 0.0280 - val_psnr: 30.1441 - val_ssim: 0.8168 - lr: 1.0000e-04 - epoch_time_sec: 40.3399 - gpu_mean_current_mb: 3954.4885 - gpu_peak_mb: 3999.8218\n",
      "Epoch 3/100\n",
      "8436/8436 [==============================] - 38s 4ms/step - loss: 0.0280 - psnr: 30.1746 - ssim: 0.8158 - val_loss: 0.0276 - val_psnr: 30.3166 - val_ssim: 0.8178 - lr: 1.0000e-04 - epoch_time_sec: 37.9091 - gpu_mean_current_mb: 3954.4885 - gpu_peak_mb: 3999.8218\n",
      "Epoch 4/100\n",
      "8436/8436 [==============================] - 37s 4ms/step - loss: 0.0278 - psnr: 30.2266 - ssim: 0.8171 - val_loss: 0.0275 - val_psnr: 30.3402 - val_ssim: 0.8194 - lr: 1.0000e-04 - epoch_time_sec: 37.0228 - gpu_mean_current_mb: 3954.4885 - gpu_peak_mb: 3999.8218\n",
      "Epoch 5/100\n",
      "8436/8436 [==============================] - 39s 5ms/step - loss: 0.0277 - psnr: 30.2630 - ssim: 0.8181 - val_loss: 0.0274 - val_psnr: 30.3611 - val_ssim: 0.8197 - lr: 1.0000e-04 - epoch_time_sec: 38.6728 - gpu_mean_current_mb: 3954.4885 - gpu_peak_mb: 3999.8218\n",
      "Epoch 6/100\n",
      "8436/8436 [==============================] - 38s 5ms/step - loss: 0.0276 - psnr: 30.2923 - ssim: 0.8189 - val_loss: 0.0277 - val_psnr: 30.1988 - val_ssim: 0.8191 - lr: 1.0000e-04 - epoch_time_sec: 38.0496 - gpu_mean_current_mb: 3954.4885 - gpu_peak_mb: 3999.8218\n",
      "Epoch 7/100\n",
      "8425/8436 [============================>.] - ETA: 0s - loss: 0.0275 - psnr: 30.3144 - ssim: 0.8195\n",
      "Epoch 7: ReduceLROnPlateau reducing learning rate to 4.999999873689376e-05.\n",
      "8436/8436 [==============================] - 38s 4ms/step - loss: 0.0275 - psnr: 30.3142 - ssim: 0.8195 - val_loss: 0.0273 - val_psnr: 30.3603 - val_ssim: 0.8213 - lr: 1.0000e-04 - epoch_time_sec: 37.5815 - gpu_mean_current_mb: 3954.4886 - gpu_peak_mb: 3999.8218\n",
      "Epoch 8/100\n",
      "8436/8436 [==============================] - 41s 5ms/step - loss: 0.0274 - psnr: 30.3823 - ssim: 0.8203 - val_loss: 0.0272 - val_psnr: 30.4316 - val_ssim: 0.8222 - lr: 5.0000e-05 - epoch_time_sec: 40.5044 - gpu_mean_current_mb: 3954.4888 - gpu_peak_mb: 3999.8218\n",
      "Epoch 9/100\n",
      "8436/8436 [==============================] - 37s 4ms/step - loss: 0.0273 - psnr: 30.3923 - ssim: 0.8206 - val_loss: 0.0271 - val_psnr: 30.4808 - val_ssim: 0.8212 - lr: 5.0000e-05 - epoch_time_sec: 37.2959 - gpu_mean_current_mb: 3954.4888 - gpu_peak_mb: 3999.8218\n",
      "Epoch 10/100\n",
      "8430/8436 [============================>.] - ETA: 0s - loss: 0.0273 - psnr: 30.4025 - ssim: 0.8209\n",
      "Epoch 10: ReduceLROnPlateau reducing learning rate to 2.499999936844688e-05.\n",
      "8436/8436 [==============================] - 37s 4ms/step - loss: 0.0273 - psnr: 30.4028 - ssim: 0.8209 - val_loss: 0.0271 - val_psnr: 30.4676 - val_ssim: 0.8236 - lr: 5.0000e-05 - epoch_time_sec: 37.1306 - gpu_mean_current_mb: 3954.4888 - gpu_peak_mb: 3999.8218\n",
      "Epoch 11/100\n",
      "8436/8436 [==============================] - 37s 4ms/step - loss: 0.0272 - psnr: 30.4379 - ssim: 0.8214 - val_loss: 0.0271 - val_psnr: 30.4585 - val_ssim: 0.8243 - lr: 2.5000e-05 - epoch_time_sec: 37.2425 - gpu_mean_current_mb: 3954.4888 - gpu_peak_mb: 3999.8218\n",
      "Epoch 12/100\n",
      "8436/8436 [==============================] - 34s 4ms/step - loss: 0.0272 - psnr: 30.4412 - ssim: 0.8215 - val_loss: 0.0270 - val_psnr: 30.4872 - val_ssim: 0.8242 - lr: 2.5000e-05 - epoch_time_sec: 33.9817 - gpu_mean_current_mb: 3954.4888 - gpu_peak_mb: 3999.8218\n",
      "Epoch 13/100\n",
      "8436/8436 [==============================] - 33s 4ms/step - loss: 0.0272 - psnr: 30.4468 - ssim: 0.8216 - val_loss: 0.0270 - val_psnr: 30.5203 - val_ssim: 0.8237 - lr: 2.5000e-05 - epoch_time_sec: 32.6620 - gpu_mean_current_mb: 3954.4888 - gpu_peak_mb: 3999.8218\n",
      "Epoch 14/100\n",
      "8432/8436 [============================>.] - ETA: 0s - loss: 0.0272 - psnr: 30.4512 - ssim: 0.8218\n",
      "Epoch 14: ReduceLROnPlateau reducing learning rate to 1.249999968422344e-05.\n",
      "8436/8436 [==============================] - 33s 4ms/step - loss: 0.0272 - psnr: 30.4507 - ssim: 0.8217 - val_loss: 0.0270 - val_psnr: 30.4831 - val_ssim: 0.8242 - lr: 2.5000e-05 - epoch_time_sec: 32.8902 - gpu_mean_current_mb: 3954.4888 - gpu_peak_mb: 3999.8218\n",
      "Epoch 15/100\n",
      "8436/8436 [==============================] - 41s 5ms/step - loss: 0.0271 - psnr: 30.4698 - ssim: 0.8220 - val_loss: 0.0270 - val_psnr: 30.5134 - val_ssim: 0.8244 - lr: 1.2500e-05 - epoch_time_sec: 40.6200 - gpu_mean_current_mb: 3954.4888 - gpu_peak_mb: 3999.8218\n",
      "Epoch 16/100\n",
      "8436/8436 [==============================] - 48s 6ms/step - loss: 0.0271 - psnr: 30.4720 - ssim: 0.8221 - val_loss: 0.0269 - val_psnr: 30.5454 - val_ssim: 0.8227 - lr: 1.2500e-05 - epoch_time_sec: 47.8202 - gpu_mean_current_mb: 3954.4888 - gpu_peak_mb: 3999.8218\n",
      "Epoch 17/100\n",
      "8436/8436 [==============================] - 47s 6ms/step - loss: 0.0271 - psnr: 30.4742 - ssim: 0.8221 - val_loss: 0.0269 - val_psnr: 30.5366 - val_ssim: 0.8229 - lr: 1.2500e-05 - epoch_time_sec: 47.2261 - gpu_mean_current_mb: 3954.4888 - gpu_peak_mb: 3999.8218\n",
      "Epoch 18/100\n",
      "8425/8436 [============================>.] - ETA: 0s - loss: 0.0271 - psnr: 30.4757 - ssim: 0.8222\n",
      "Epoch 18: ReduceLROnPlateau reducing learning rate to 6.24999984211172e-06.\n",
      "8436/8436 [==============================] - 39s 5ms/step - loss: 0.0271 - psnr: 30.4761 - ssim: 0.8222 - val_loss: 0.0269 - val_psnr: 30.5516 - val_ssim: 0.8237 - lr: 1.2500e-05 - epoch_time_sec: 38.5648 - gpu_mean_current_mb: 3954.4888 - gpu_peak_mb: 3999.8218\n",
      "Epoch 19/100\n",
      "8436/8436 [==============================] - 38s 5ms/step - loss: 0.0271 - psnr: 30.4872 - ssim: 0.8223 - val_loss: 0.0269 - val_psnr: 30.5486 - val_ssim: 0.8236 - lr: 6.2500e-06 - epoch_time_sec: 38.4702 - gpu_mean_current_mb: 3954.4888 - gpu_peak_mb: 3999.8218\n",
      "Epoch 20/100\n",
      "8436/8436 [==============================] - ETA: 0s - loss: 0.0271 - psnr: 30.4883 - ssim: 0.8224\n",
      "Epoch 20: ReduceLROnPlateau reducing learning rate to 3.12499992105586e-06.\n",
      "8436/8436 [==============================] - 37s 4ms/step - loss: 0.0271 - psnr: 30.4883 - ssim: 0.8224 - val_loss: 0.0269 - val_psnr: 30.5544 - val_ssim: 0.8228 - lr: 6.2500e-06 - epoch_time_sec: 37.3218 - gpu_mean_current_mb: 3954.4888 - gpu_peak_mb: 3999.8218\n",
      "Epoch 21/100\n",
      "8436/8436 [==============================] - 44s 5ms/step - loss: 0.0271 - psnr: 30.4942 - ssim: 0.8225 - val_loss: 0.0269 - val_psnr: 30.5552 - val_ssim: 0.8235 - lr: 3.1250e-06 - epoch_time_sec: 43.5752 - gpu_mean_current_mb: 3954.4888 - gpu_peak_mb: 3999.8218\n",
      "Epoch 22/100\n",
      "8428/8436 [============================>.] - ETA: 0s - loss: 0.0271 - psnr: 30.4945 - ssim: 0.8225\n",
      "Epoch 22: ReduceLROnPlateau reducing learning rate to 1.56249996052793e-06.\n",
      "8436/8436 [==============================] - 42s 5ms/step - loss: 0.0271 - psnr: 30.4947 - ssim: 0.8225 - val_loss: 0.0269 - val_psnr: 30.5391 - val_ssim: 0.8242 - lr: 3.1250e-06 - epoch_time_sec: 42.1956 - gpu_mean_current_mb: 3954.4888 - gpu_peak_mb: 3999.8218\n",
      "Epoch 23/100\n",
      "8436/8436 [==============================] - 36s 4ms/step - loss: 0.0270 - psnr: 30.4980 - ssim: 0.8225 - val_loss: 0.0269 - val_psnr: 30.5418 - val_ssim: 0.8246 - lr: 1.5625e-06 - epoch_time_sec: 36.3862 - gpu_mean_current_mb: 3954.4888 - gpu_peak_mb: 3999.8218\n",
      "Epoch 24/100\n",
      "8433/8436 [============================>.] - ETA: 0s - loss: 0.0270 - psnr: 30.4986 - ssim: 0.8225\n",
      "Epoch 24: ReduceLROnPlateau reducing learning rate to 7.81249980263965e-07.\n",
      "8436/8436 [==============================] - 39s 5ms/step - loss: 0.0270 - psnr: 30.4985 - ssim: 0.8225 - val_loss: 0.0269 - val_psnr: 30.5529 - val_ssim: 0.8238 - lr: 1.5625e-06 - epoch_time_sec: 39.2536 - gpu_mean_current_mb: 3954.4888 - gpu_peak_mb: 3999.8218\n",
      "Epoch 25/100\n",
      "8436/8436 [==============================] - 37s 4ms/step - loss: 0.0270 - psnr: 30.5000 - ssim: 0.8226 - val_loss: 0.0269 - val_psnr: 30.5593 - val_ssim: 0.8237 - lr: 7.8125e-07 - epoch_time_sec: 36.9775 - gpu_mean_current_mb: 3954.4888 - gpu_peak_mb: 3999.8218\n",
      "Epoch 26/100\n",
      "8428/8436 [============================>.] - ETA: 0s - loss: 0.0270 - psnr: 30.4999 - ssim: 0.8225\n",
      "Epoch 26: ReduceLROnPlateau reducing learning rate to 3.906249901319825e-07.\n",
      "8436/8436 [==============================] - 40s 5ms/step - loss: 0.0270 - psnr: 30.5002 - ssim: 0.8225 - val_loss: 0.0269 - val_psnr: 30.5570 - val_ssim: 0.8241 - lr: 7.8125e-07 - epoch_time_sec: 40.0271 - gpu_mean_current_mb: 3954.4888 - gpu_peak_mb: 3999.8218\n",
      "Epoch 27/100\n",
      "8436/8436 [==============================] - 40s 5ms/step - loss: 0.0270 - psnr: 30.5012 - ssim: 0.8226 - val_loss: 0.0269 - val_psnr: 30.5577 - val_ssim: 0.8239 - lr: 3.9062e-07 - epoch_time_sec: 39.6994 - gpu_mean_current_mb: 3954.4888 - gpu_peak_mb: 3999.8218\n",
      "Epoch 28/100\n",
      "8430/8436 [============================>.] - ETA: 0s - loss: 0.0270 - psnr: 30.5017 - ssim: 0.8226\n",
      "Epoch 28: ReduceLROnPlateau reducing learning rate to 1.9531249506599124e-07.\n",
      "8436/8436 [==============================] - 45s 5ms/step - loss: 0.0270 - psnr: 30.5013 - ssim: 0.8226 - val_loss: 0.0269 - val_psnr: 30.5608 - val_ssim: 0.8239 - lr: 3.9062e-07 - epoch_time_sec: 45.3484 - gpu_mean_current_mb: 3954.4888 - gpu_peak_mb: 3999.8218\n",
      "Epoch 29/100\n",
      "8436/8436 [==============================] - 48s 6ms/step - loss: 0.0270 - psnr: 30.5018 - ssim: 0.8226 - val_loss: 0.0269 - val_psnr: 30.5601 - val_ssim: 0.8238 - lr: 1.9531e-07 - epoch_time_sec: 48.4850 - gpu_mean_current_mb: 3954.4888 - gpu_peak_mb: 3999.8218\n",
      "Epoch 30/100\n",
      "8428/8436 [============================>.] - ETA: 0s - loss: 0.0270 - psnr: 30.5014 - ssim: 0.8226\n",
      "Epoch 30: ReduceLROnPlateau reducing learning rate to 1e-07.\n",
      "8436/8436 [==============================] - 49s 6ms/step - loss: 0.0270 - psnr: 30.5018 - ssim: 0.8226 - val_loss: 0.0269 - val_psnr: 30.5611 - val_ssim: 0.8238 - lr: 1.9531e-07 - epoch_time_sec: 49.0406 - gpu_mean_current_mb: 3954.4888 - gpu_peak_mb: 3999.8218\n",
      "Epoch 31/100\n",
      "8436/8436 [==============================] - 49s 6ms/step - loss: 0.0270 - psnr: 30.5021 - ssim: 0.8226 - val_loss: 0.0269 - val_psnr: 30.5585 - val_ssim: 0.8239 - lr: 1.0000e-07 - epoch_time_sec: 48.6298 - gpu_mean_current_mb: 3954.4888 - gpu_peak_mb: 3999.8218\n",
      "Epoch 32/100\n",
      "8436/8436 [==============================] - 48s 6ms/step - loss: 0.0270 - psnr: 30.5021 - ssim: 0.8226 - val_loss: 0.0269 - val_psnr: 30.5604 - val_ssim: 0.8239 - lr: 1.0000e-07 - epoch_time_sec: 47.5081 - gpu_mean_current_mb: 3954.4888 - gpu_peak_mb: 3999.8218\n",
      "Epoch 33/100\n",
      "8436/8436 [==============================] - 48s 6ms/step - loss: 0.0270 - psnr: 30.5021 - ssim: 0.8226 - val_loss: 0.0269 - val_psnr: 30.5614 - val_ssim: 0.8238 - lr: 1.0000e-07 - epoch_time_sec: 47.8008 - gpu_mean_current_mb: 3954.4888 - gpu_peak_mb: 3999.8218\n",
      "Epoch 34/100\n",
      "8436/8436 [==============================] - 41s 5ms/step - loss: 0.0270 - psnr: 30.5020 - ssim: 0.8226 - val_loss: 0.0269 - val_psnr: 30.5604 - val_ssim: 0.8238 - lr: 1.0000e-07 - epoch_time_sec: 40.5299 - gpu_mean_current_mb: 3954.4888 - gpu_peak_mb: 3999.8218\n",
      "Epoch 35/100\n",
      "8436/8436 [==============================] - 41s 5ms/step - loss: 0.0270 - psnr: 30.5021 - ssim: 0.8226 - val_loss: 0.0269 - val_psnr: 30.5596 - val_ssim: 0.8237 - lr: 1.0000e-07 - epoch_time_sec: 41.1452 - gpu_mean_current_mb: 3954.4888 - gpu_peak_mb: 3999.8218\n",
      "Epoch 36/100\n",
      "8436/8436 [==============================] - 48s 6ms/step - loss: 0.0270 - psnr: 30.5021 - ssim: 0.8226 - val_loss: 0.0269 - val_psnr: 30.5587 - val_ssim: 0.8238 - lr: 1.0000e-07 - epoch_time_sec: 48.4723 - gpu_mean_current_mb: 3954.4888 - gpu_peak_mb: 3999.8218\n",
      "Epoch 37/100\n",
      "8436/8436 [==============================] - 48s 6ms/step - loss: 0.0270 - psnr: 30.5022 - ssim: 0.8226 - val_loss: 0.0269 - val_psnr: 30.5607 - val_ssim: 0.8238 - lr: 1.0000e-07 - epoch_time_sec: 48.4355 - gpu_mean_current_mb: 3954.4888 - gpu_peak_mb: 3999.8218\n",
      "Epoch 38/100\n",
      "8436/8436 [==============================] - 48s 6ms/step - loss: 0.0270 - psnr: 30.5023 - ssim: 0.8226 - val_loss: 0.0269 - val_psnr: 30.5592 - val_ssim: 0.8239 - lr: 1.0000e-07 - epoch_time_sec: 47.8999 - gpu_mean_current_mb: 3954.4888 - gpu_peak_mb: 3999.8218\n",
      "Epoch 39/100\n",
      "8436/8436 [==============================] - 44s 5ms/step - loss: 0.0270 - psnr: 30.5022 - ssim: 0.8226 - val_loss: 0.0269 - val_psnr: 30.5590 - val_ssim: 0.8239 - lr: 1.0000e-07 - epoch_time_sec: 43.6251 - gpu_mean_current_mb: 3954.4888 - gpu_peak_mb: 3999.8218\n",
      "Epoch 40/100\n",
      "8436/8436 [==============================] - 34s 4ms/step - loss: 0.0270 - psnr: 30.5022 - ssim: 0.8226 - val_loss: 0.0269 - val_psnr: 30.5609 - val_ssim: 0.8239 - lr: 1.0000e-07 - epoch_time_sec: 33.8751 - gpu_mean_current_mb: 3954.4888 - gpu_peak_mb: 3999.8218\n",
      "Epoch 41/100\n",
      "8436/8436 [==============================] - 40s 5ms/step - loss: 0.0270 - psnr: 30.5021 - ssim: 0.8226 - val_loss: 0.0269 - val_psnr: 30.5585 - val_ssim: 0.8240 - lr: 1.0000e-07 - epoch_time_sec: 40.3038 - gpu_mean_current_mb: 3954.4888 - gpu_peak_mb: 3999.8218\n",
      "Epoch 42/100\n",
      "8436/8436 [==============================] - 42s 5ms/step - loss: 0.0270 - psnr: 30.5022 - ssim: 0.8226 - val_loss: 0.0269 - val_psnr: 30.5605 - val_ssim: 0.8239 - lr: 1.0000e-07 - epoch_time_sec: 41.5891 - gpu_mean_current_mb: 3954.4888 - gpu_peak_mb: 3999.8218\n",
      "Epoch 43/100\n",
      "8436/8436 [==============================] - 32s 4ms/step - loss: 0.0270 - psnr: 30.5022 - ssim: 0.8226 - val_loss: 0.0269 - val_psnr: 30.5609 - val_ssim: 0.8238 - lr: 1.0000e-07 - epoch_time_sec: 31.6345 - gpu_mean_current_mb: 3954.4888 - gpu_peak_mb: 3999.8218\n",
      "Epoch 44/100\n",
      "8436/8436 [==============================] - 31s 4ms/step - loss: 0.0270 - psnr: 30.5023 - ssim: 0.8226 - val_loss: 0.0269 - val_psnr: 30.5608 - val_ssim: 0.8239 - lr: 1.0000e-07 - epoch_time_sec: 30.5448 - gpu_mean_current_mb: 3954.4888 - gpu_peak_mb: 3999.8218\n",
      "Epoch 45/100\n",
      "8436/8436 [==============================] - 31s 4ms/step - loss: 0.0270 - psnr: 30.5024 - ssim: 0.8226 - val_loss: 0.0269 - val_psnr: 30.5599 - val_ssim: 0.8239 - lr: 1.0000e-07 - epoch_time_sec: 30.5884 - gpu_mean_current_mb: 3954.4888 - gpu_peak_mb: 3999.8218\n",
      "Epoch 46/100\n",
      "8436/8436 [==============================] - 33s 4ms/step - loss: 0.0270 - psnr: 30.5024 - ssim: 0.8226 - val_loss: 0.0269 - val_psnr: 30.5600 - val_ssim: 0.8239 - lr: 1.0000e-07 - epoch_time_sec: 32.5794 - gpu_mean_current_mb: 3954.4888 - gpu_peak_mb: 3999.8218\n",
      "Epoch 47/100\n",
      "8436/8436 [==============================] - 36s 4ms/step - loss: 0.0270 - psnr: 30.5024 - ssim: 0.8226 - val_loss: 0.0269 - val_psnr: 30.5605 - val_ssim: 0.8240 - lr: 1.0000e-07 - epoch_time_sec: 36.0172 - gpu_mean_current_mb: 3954.4888 - gpu_peak_mb: 3999.8218\n",
      "Epoch 48/100\n",
      "8436/8436 [==============================] - 36s 4ms/step - loss: 0.0270 - psnr: 30.5023 - ssim: 0.8226 - val_loss: 0.0269 - val_psnr: 30.5608 - val_ssim: 0.8239 - lr: 1.0000e-07 - epoch_time_sec: 35.7403 - gpu_mean_current_mb: 3954.4888 - gpu_peak_mb: 3999.8218\n",
      "Epoch 49/100\n",
      "8436/8436 [==============================] - 35s 4ms/step - loss: 0.0270 - psnr: 30.5024 - ssim: 0.8226 - val_loss: 0.0269 - val_psnr: 30.5601 - val_ssim: 0.8239 - lr: 1.0000e-07 - epoch_time_sec: 34.6947 - gpu_mean_current_mb: 3954.4888 - gpu_peak_mb: 3999.8218\n",
      "Epoch 50/100\n",
      "8436/8436 [==============================] - 33s 4ms/step - loss: 0.0270 - psnr: 30.5023 - ssim: 0.8226 - val_loss: 0.0269 - val_psnr: 30.5610 - val_ssim: 0.8239 - lr: 1.0000e-07 - epoch_time_sec: 32.8876 - gpu_mean_current_mb: 3954.4888 - gpu_peak_mb: 3999.8218\n",
      "Epoch 51/100\n",
      "8436/8436 [==============================] - 33s 4ms/step - loss: 0.0270 - psnr: 30.5025 - ssim: 0.8226 - val_loss: 0.0269 - val_psnr: 30.5604 - val_ssim: 0.8238 - lr: 1.0000e-07 - epoch_time_sec: 33.3504 - gpu_mean_current_mb: 3954.4888 - gpu_peak_mb: 3999.8218\n",
      "Epoch 52/100\n",
      "8436/8436 [==============================] - 36s 4ms/step - loss: 0.0270 - psnr: 30.5025 - ssim: 0.8226 - val_loss: 0.0269 - val_psnr: 30.5605 - val_ssim: 0.8238 - lr: 1.0000e-07 - epoch_time_sec: 35.8301 - gpu_mean_current_mb: 3954.4888 - gpu_peak_mb: 3999.8218\n",
      "Epoch 53/100\n",
      "8436/8436 [==============================] - 44s 5ms/step - loss: 0.0270 - psnr: 30.5024 - ssim: 0.8226 - val_loss: 0.0269 - val_psnr: 30.5602 - val_ssim: 0.8239 - lr: 1.0000e-07 - epoch_time_sec: 44.1794 - gpu_mean_current_mb: 3954.4888 - gpu_peak_mb: 3999.8218\n",
      "Epoch 54/100\n",
      "8436/8436 [==============================] - 45s 5ms/step - loss: 0.0270 - psnr: 30.5025 - ssim: 0.8226 - val_loss: 0.0269 - val_psnr: 30.5596 - val_ssim: 0.8238 - lr: 1.0000e-07 - epoch_time_sec: 45.4644 - gpu_mean_current_mb: 3954.4888 - gpu_peak_mb: 3999.8218\n",
      "Epoch 55/100\n",
      "8436/8436 [==============================] - 42s 5ms/step - loss: 0.0270 - psnr: 30.5025 - ssim: 0.8226 - val_loss: 0.0269 - val_psnr: 30.5610 - val_ssim: 0.8239 - lr: 1.0000e-07 - epoch_time_sec: 42.4693 - gpu_mean_current_mb: 3954.4888 - gpu_peak_mb: 3999.8218\n",
      "Epoch 56/100\n",
      "8436/8436 [==============================] - 46s 5ms/step - loss: 0.0270 - psnr: 30.5026 - ssim: 0.8226 - val_loss: 0.0269 - val_psnr: 30.5599 - val_ssim: 0.8239 - lr: 1.0000e-07 - epoch_time_sec: 46.3413 - gpu_mean_current_mb: 3954.4888 - gpu_peak_mb: 3999.8218\n",
      "Epoch 57/100\n",
      "8436/8436 [==============================] - 39s 5ms/step - loss: 0.0270 - psnr: 30.5026 - ssim: 0.8226 - val_loss: 0.0269 - val_psnr: 30.5605 - val_ssim: 0.8239 - lr: 1.0000e-07 - epoch_time_sec: 39.2626 - gpu_mean_current_mb: 3954.4888 - gpu_peak_mb: 3999.8218\n",
      "Epoch 58/100\n",
      "8436/8436 [==============================] - 37s 4ms/step - loss: 0.0270 - psnr: 30.5027 - ssim: 0.8226 - val_loss: 0.0269 - val_psnr: 30.5596 - val_ssim: 0.8239 - lr: 1.0000e-07 - epoch_time_sec: 37.0155 - gpu_mean_current_mb: 3954.4888 - gpu_peak_mb: 3999.8218\n",
      "Epoch 59/100\n",
      "8436/8436 [==============================] - 46s 5ms/step - loss: 0.0270 - psnr: 30.5025 - ssim: 0.8226 - val_loss: 0.0269 - val_psnr: 30.5598 - val_ssim: 0.8239 - lr: 1.0000e-07 - epoch_time_sec: 45.5012 - gpu_mean_current_mb: 3954.4888 - gpu_peak_mb: 3999.8218\n",
      "Epoch 60/100\n",
      "8436/8436 [==============================] - 38s 5ms/step - loss: 0.0270 - psnr: 30.5027 - ssim: 0.8226 - val_loss: 0.0269 - val_psnr: 30.5604 - val_ssim: 0.8238 - lr: 1.0000e-07 - epoch_time_sec: 38.0230 - gpu_mean_current_mb: 3954.4900 - gpu_peak_mb: 3999.8218\n"
     ]
    }
   ],
   "source": [
    "# Train SRCNN and capture callbacks for metrics\n",
    "history, time_cb, mem_cb = model.fit(\n",
    "    X_train, Y_train, X_val, Y_val,\n",
    "    batch_size=32,\n",
    "    epochs=100\n",
    ")"
   ]
  },
  {
   "cell_type": "code",
   "execution_count": null,
   "id": "8a4e449b",
   "metadata": {},
   "outputs": [
    {
     "name": "stdout",
     "output_type": "stream",
     "text": [
      "1042/1042 [==============================] - 4s 4ms/step - loss: 0.0270 - psnr: 30.5339 - ssim: 0.8237\n",
      "Loss: 0.0270, PSNR: 30.53 dB, SSIM: 0.8237\n",
      "{'eval_loss': 0.026958081871271133, 'eval_psnr': 30.533872604370117, 'eval_ssim': 0.8236779570579529, 'final_train_loss': 0.02703506499528885, 'final_val_loss': 0.026858631521463394, 'final_train_psnr': 30.50265121459961, 'final_val_psnr': 30.560373306274414, 'final_train_ssim': 0.8225932121276855, 'final_val_ssim': 0.8238208889961243, 'epoch_time_sec': 40.04303021666667, 'memory': {'gpu_mean_current_mb': 3951.191269938151, 'gpu_peak_mb': 3999.82177734375}}\n"
     ]
    }
   ],
   "source": [
    "# Evaluate and prepare metrics dictionary\n",
    "results = model.evaluate(X_test, Y_test)\n",
    "\n",
    "# Extract last epoch train/val metrics from history\n",
    "train_loss = float(history.history['loss'][-1]) if 'loss' in history.history else None\n",
    "val_loss = float(history.history['val_loss'][-1]) if 'val_loss' in history.history else None\n",
    "train_psnr = float(history.history['psnr'][-1]) if 'psnr' in history.history else None\n",
    "val_psnr = float(history.history['val_psnr'][-1]) if 'val_psnr' in history.history else None\n",
    "train_ssim = float(history.history['ssim'][-1]) if 'ssim' in history.history else None\n",
    "val_ssim = float(history.history['val_ssim'][-1]) if 'val_ssim' in history.history else None\n",
    "\n",
    "metrics_dict = {\n",
    "    \"eval_loss\": float(results[0]),\n",
    "    \"eval_psnr\": float(results[1]),\n",
    "    \"eval_ssim\": float(results[2]),\n",
    "    \"final_train_loss\": train_loss,\n",
    "    \"final_val_loss\": val_loss,\n",
    "    \"final_train_psnr\": train_psnr,\n",
    "    \"final_val_psnr\": val_psnr,\n",
    "    \"final_train_ssim\": train_ssim,\n",
    "    \"final_val_ssim\": val_ssim,\n",
    "    \"epoch_time_sec\": time_cb.mean_time_value(),\n",
    "    \"memory\": mem_cb.as_dict()\n",
    "}"
   ]
  },
  {
   "cell_type": "code",
   "execution_count": 7,
   "id": "b4748ed2",
   "metadata": {},
   "outputs": [
    {
     "name": "stdout",
     "output_type": "stream",
     "text": [
      "Model saved to models/SRCNN/SRCNN_20250909_165958\\SRCNN_20250909_165958.h5\n"
     ]
    }
   ],
   "source": [
    "timestamp = datetime.datetime.now().strftime(\"%Y%m%d_%H%M%S\")\n",
    "\n",
    "# Save the trained model\n",
    "model.save(directory=f\"models/SRCNN/SRCNN_{timestamp}\", timestamp=timestamp)\n",
    "\n",
    "# Save hr_h and hr_w for later use in the reconstruction of the images\n",
    "with open(os.path.abspath(os.path.join(os.getcwd(), f\"models/SRCNN/SRCNN_{timestamp}/SRCNN_{timestamp}_hrh_hrw.pkl\")), \"wb\") as f:\n",
    "    pickle.dump((hr_h, hr_w), f)"
   ]
  },
  {
   "cell_type": "code",
   "execution_count": 8,
   "id": "637bfd07",
   "metadata": {},
   "outputs": [
    {
     "name": "stdout",
     "output_type": "stream",
     "text": [
      "Saved metrics to c:\\Users\\bgmanuel\\InteligenciaArtificial\\MasterInteligenciaArtificial\\Periodo2\\TFM\\Super-Resolution-Images-for-3D-Printing-Defect-Detection\\SRModels\\deep_learning_models\\models\\SRCNN\\SRCNN_20250909_165958\\SRCNN_20250909_165958_metrics.pkl\n"
     ]
    }
   ],
   "source": [
    "# Save evaluation/time/memory metrics next to the model\n",
    "metrics_path = os.path.abspath(os.path.join(os.getcwd(), f\"models/SRCNN/SRCNN_{timestamp}/SRCNN_{timestamp}_metrics.pkl\"))\n",
    "\n",
    "with open(metrics_path, \"wb\") as f:\n",
    "    pickle.dump(metrics_dict, f)\n",
    "    \n",
    "print(f\"Saved metrics to {metrics_path}\")"
   ]
  }
 ],
 "metadata": {
  "kernelspec": {
   "display_name": "py310",
   "language": "python",
   "name": "python3"
  },
  "language_info": {
   "codemirror_mode": {
    "name": "ipython",
    "version": 3
   },
   "file_extension": ".py",
   "mimetype": "text/x-python",
   "name": "python",
   "nbconvert_exporter": "python",
   "pygments_lexer": "ipython3",
   "version": "3.10.18"
  }
 },
 "nbformat": 4,
 "nbformat_minor": 5
}
