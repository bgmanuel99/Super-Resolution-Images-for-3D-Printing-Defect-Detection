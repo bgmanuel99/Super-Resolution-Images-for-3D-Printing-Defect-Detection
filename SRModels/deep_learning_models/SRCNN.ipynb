{
 "cells": [
  {
   "cell_type": "code",
   "execution_count": 1,
   "id": "b62c01c6",
   "metadata": {},
   "outputs": [],
   "source": [
    "import os\n",
    "import sys\n",
    "import datetime\n",
    "\n",
    "import pickle\n",
    "from sklearn.model_selection import train_test_split\n",
    "\n",
    "sys.path.append(os.path.abspath(os.path.join(os.getcwd(), \"../../\")))\n",
    "from SRModels.loading_methods import load_dataset_as_patches\n",
    "from SRModels.deep_learning_models.SRCNN_model import SRCNNModel\n",
    "from SRModels.constants import SRCNN_PATCH_SIZE, SRCNN_STRIDE, RANDOM_SEED"
   ]
  },
  {
   "cell_type": "code",
   "execution_count": 2,
   "id": "e1ed6dbd",
   "metadata": {},
   "outputs": [],
   "source": [
    "HR_ROOT = os.path.abspath(os.path.join(os.getcwd(), \"../../data/images/HR\"))\n",
    "LR_ROOT = os.path.abspath(os.path.join(os.getcwd(), \"../../data/images/LR\"))\n",
    "INTERP_MAP_PATH = os.path.abspath(os.path.join(os.getcwd(), \"../../data/images/interpolation_map.pkl\"))"
   ]
  },
  {
   "cell_type": "code",
   "execution_count": 3,
   "id": "495338f5",
   "metadata": {},
   "outputs": [
    {
     "name": "stdout",
     "output_type": "stream",
     "text": [
      "X shape: (333251, 24, 24, 3), Y shape: (333251, 24, 24, 3)\n",
      "X_train shape: (269932, 24, 24, 3), Y_train shape: (269932, 24, 24, 3)\n",
      "X_val shape: (29993, 24, 24, 3), Y_val shape: (29993, 24, 24, 3)\n",
      "X_test shape: (33326, 24, 24, 3), Y_test shape: (33326, 24, 24, 3)\n"
     ]
    }
   ],
   "source": [
    "# X -> Low-resolution patches (model input) (Low-resolution images with same size as Y but noised)\n",
    "# Y -> High-resolution patches (target)\n",
    "X, Y, hr_h, hr_w = load_dataset_as_patches(HR_ROOT, LR_ROOT, mode=\"srcnn\", patch_size=SRCNN_PATCH_SIZE, stride=SRCNN_STRIDE, interpolation_map_path=INTERP_MAP_PATH)\n",
    "\n",
    "# Reduce dataset size with percentage\n",
    "X = X[:int(0.7 * len(X))]\n",
    "Y = Y[:int(0.7 * len(Y))]\n",
    "\n",
    "X_train, X_test, Y_train, Y_test = train_test_split(X, Y, test_size=0.1, shuffle=True, random_state=RANDOM_SEED)\n",
    "X_train, X_val, Y_train, Y_val = train_test_split(X_train, Y_train, test_size=0.1, shuffle=True, random_state=RANDOM_SEED)\n",
    "\n",
    "print(f\"X shape: {X.shape}, Y shape: {Y.shape}\")\n",
    "print(f\"X_train shape: {X_train.shape}, Y_train shape: {Y_train.shape}\")\n",
    "print(f\"X_val shape: {X_val.shape}, Y_val shape: {Y_val.shape}\")\n",
    "print(f\"X_test shape: {X_test.shape}, Y_test shape: {Y_test.shape}\")"
   ]
  },
  {
   "cell_type": "code",
   "execution_count": 4,
   "id": "1aa44862",
   "metadata": {},
   "outputs": [
    {
     "name": "stdout",
     "output_type": "stream",
     "text": [
      "Model: \"sequential\"\n",
      "_________________________________________________________________\n",
      " Layer (type)                Output Shape              Param #   \n",
      "=================================================================\n",
      " conv2d (Conv2D)             (None, 24, 24, 96)        23424     \n",
      "                                                                 \n",
      " conv2d_1 (Conv2D)           (None, 24, 24, 32)        3104      \n",
      "                                                                 \n",
      " conv2d_2 (Conv2D)           (None, 24, 24, 3)         2403      \n",
      "                                                                 \n",
      "=================================================================\n",
      "Total params: 28,931\n",
      "Trainable params: 28,931\n",
      "Non-trainable params: 0\n",
      "_________________________________________________________________\n"
     ]
    }
   ],
   "source": [
    "model = SRCNNModel()\n",
    "\n",
    "model.setup_model(input_shape=X_train.shape[1:], learning_rate=1e-4)"
   ]
  },
  {
   "cell_type": "code",
   "execution_count": 5,
   "id": "9352967c",
   "metadata": {},
   "outputs": [
    {
     "name": "stdout",
     "output_type": "stream",
     "text": [
      "Training on GPU: /physical_device:GPU:0\n",
      "8436/8436 [==============================] - 46s 5ms/step - loss: 0.0031 - psnr: 29.0382 - ssim: 0.7996 - val_loss: 0.0017 - val_psnr: 29.7159 - val_ssim: 0.8156 - lr: 1.0000e-04 - epoch_time_sec: 45.8597 - gpu_mean_current_mb: 3756.6383 - gpu_peak_mb: 4000.5535\n"
     ]
    }
   ],
   "source": [
    "# Train SRCNN and capture callbacks for metrics\n",
    "history, time_cb, mem_cb = model.fit(\n",
    "    X_train, Y_train, X_val, Y_val,\n",
    "    batch_size=32,\n",
    "    epochs=1\n",
    ")"
   ]
  },
  {
   "cell_type": "code",
   "execution_count": 6,
   "id": "8a4e449b",
   "metadata": {},
   "outputs": [
    {
     "name": "stdout",
     "output_type": "stream",
     "text": [
      "1042/1042 [==============================] - 4s 3ms/step - loss: 0.0017 - psnr: 29.6834 - ssim: 0.8153\n",
      "Loss: 0.0017, PSNR: 29.68 dB, SSIM: 0.8153\n"
     ]
    }
   ],
   "source": [
    "# Evaluate and prepare metrics dictionary\n",
    "results = model.evaluate(X_test, Y_test)\n",
    "\n",
    "# Extract last epoch train/val metrics from history\n",
    "train_loss = float(history.history['loss'][-1]) if 'loss' in history.history else None\n",
    "val_loss = float(history.history['val_loss'][-1]) if 'val_loss' in history.history else None\n",
    "train_psnr = float(history.history['psnr'][-1]) if 'psnr' in history.history else None\n",
    "val_psnr = float(history.history['val_psnr'][-1]) if 'val_psnr' in history.history else None\n",
    "train_ssim = float(history.history['ssim'][-1]) if 'ssim' in history.history else None\n",
    "val_ssim = float(history.history['val_ssim'][-1]) if 'val_ssim' in history.history else None\n",
    "\n",
    "metrics_dict = {\n",
    "    \"eval_loss\": float(results[0]),\n",
    "    \"eval_psnr\": float(results[1]),\n",
    "    \"eval_ssim\": float(results[2]),\n",
    "    \"final_train_loss\": train_loss,\n",
    "    \"final_val_loss\": val_loss,\n",
    "    \"final_train_psnr\": train_psnr,\n",
    "    \"final_val_psnr\": val_psnr,\n",
    "    \"final_train_ssim\": train_ssim,\n",
    "    \"final_val_ssim\": val_ssim,\n",
    "    \"epoch_time_sec\": time_cb.mean_time_value(),\n",
    "    \"memory\": mem_cb.as_dict()\n",
    "}"
   ]
  },
  {
   "cell_type": "code",
   "execution_count": 7,
   "id": "b4748ed2",
   "metadata": {},
   "outputs": [
    {
     "name": "stdout",
     "output_type": "stream",
     "text": [
      "Model saved to models/SRCNN/SRCNN_20250909_205417\\SRCNN_20250909_205417.h5\n"
     ]
    }
   ],
   "source": [
    "timestamp = datetime.datetime.now().strftime(\"%Y%m%d_%H%M%S\")\n",
    "\n",
    "# Save the trained model\n",
    "model.save(directory=f\"models/SRCNN/SRCNN_{timestamp}\", timestamp=timestamp)\n",
    "\n",
    "# Save hr_h and hr_w for later use in the reconstruction of the images\n",
    "with open(os.path.abspath(os.path.join(os.getcwd(), f\"models/SRCNN/SRCNN_{timestamp}/SRCNN_{timestamp}_hrh_hrw.pkl\")), \"wb\") as f:\n",
    "    pickle.dump((hr_h, hr_w), f)"
   ]
  },
  {
   "cell_type": "code",
   "execution_count": 8,
   "id": "637bfd07",
   "metadata": {},
   "outputs": [
    {
     "name": "stdout",
     "output_type": "stream",
     "text": [
      "Saved metrics to c:\\Users\\bgmanuel\\InteligenciaArtificial\\MasterInteligenciaArtificial\\Periodo2\\TFM\\Super-Resolution-Images-for-3D-Printing-Defect-Detection\\SRModels\\deep_learning_models\\models\\SRCNN\\SRCNN_20250909_205417\\SRCNN_20250909_205417_metrics.pkl\n"
     ]
    }
   ],
   "source": [
    "# Save evaluation/time/memory metrics next to the model\n",
    "metrics_path = os.path.abspath(os.path.join(os.getcwd(), f\"models/SRCNN/SRCNN_{timestamp}/SRCNN_{timestamp}_metrics.pkl\"))\n",
    "\n",
    "with open(metrics_path, \"wb\") as f:\n",
    "    pickle.dump(metrics_dict, f)\n",
    "    \n",
    "print(f\"Saved metrics to {metrics_path}\")"
   ]
  }
 ],
 "metadata": {
  "kernelspec": {
   "display_name": "py310",
   "language": "python",
   "name": "python3"
  },
  "language_info": {
   "codemirror_mode": {
    "name": "ipython",
    "version": 3
   },
   "file_extension": ".py",
   "mimetype": "text/x-python",
   "name": "python",
   "nbconvert_exporter": "python",
   "pygments_lexer": "ipython3",
   "version": "3.10.18"
  }
 },
 "nbformat": 4,
 "nbformat_minor": 5
}
