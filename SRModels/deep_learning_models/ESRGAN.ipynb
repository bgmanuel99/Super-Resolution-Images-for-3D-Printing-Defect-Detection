{
 "cells": [
  {
   "cell_type": "code",
   "execution_count": null,
   "id": "d2130e77",
   "metadata": {},
   "outputs": [],
   "source": [
    "import os\n",
    "import sys\n",
    "import datetime\n",
    "\n",
    "import pickle\n",
    "import numpy as np\n",
    "import tensorflow as tf\n",
    "from sklearn.model_selection import train_test_split\n",
    "\n",
    "sys.path.append(os.path.abspath(os.path.join(os.getcwd(), \"../../\")))\n",
    "\n",
    "from SRModels.deep_learning_models.ESRGAN_model import ESRGAN\n",
    "from SRModels.loading_methods import load_dataset_as_patches\n",
    "from SRModels.constants import ESRGAN_PATCH_SIZE, ESRGAN_STRIDE, RANDOM_SEED, ESRGAN_SCALE_FACTOR\n",
    "\n",
    "# Enable memory growth (prevents full pre-allocation)\n",
    "for gpu in tf.config.experimental.list_physical_devices(\"GPU\"):\n",
    "    try:\n",
    "        tf.config.experimental.set_memory_growth(gpu, True)\n",
    "    except Exception as e:\n",
    "        print(f\"Memory growth not set: {e}\")"
   ]
  },
  {
   "cell_type": "code",
   "execution_count": null,
   "id": "aa806ea8",
   "metadata": {},
   "outputs": [],
   "source": [
    "HR_ROOT = os.path.abspath(os.path.join(os.getcwd(), \"../../data/images/HR\"))\n",
    "LR_ROOT = os.path.abspath(os.path.join(os.getcwd(), \"../../data/images/LR\"))\n",
    "\n",
    "timestamp = datetime.datetime.now().strftime(\"%Y%m%d_%H%M%S\")\n",
    "directory = f\"models/ESRGAN/ESRGAN_{timestamp}\"\n",
    "grid_figures_directory = f\"{directory}/grid_figures\""
   ]
  },
  {
   "cell_type": "code",
   "execution_count": null,
   "id": "9a773391",
   "metadata": {},
   "outputs": [],
   "source": [
    "X, Y = load_dataset_as_patches(HR_ROOT, LR_ROOT, mode=\"scale\", patch_size=ESRGAN_PATCH_SIZE, stride=ESRGAN_STRIDE, scale_factor=ESRGAN_SCALE_FACTOR)\n",
    "X_train, X_test, Y_train, Y_test = train_test_split(X, Y, test_size=0.1, shuffle=True, random_state=RANDOM_SEED)\n",
    "X_train, X_val, Y_train, Y_val = train_test_split(X_train, Y_train, test_size=0.1, shuffle=True, random_state=RANDOM_SEED)\n",
    "\n",
    "print(f\"X_train shape: {X_train.shape}, Y_train shape: {Y_train.shape}\")\n",
    "print(f\"X_val shape: {X_val.shape}, Y_val shape: {Y_val.shape}\")\n",
    "print(f\"X_test shape: {X_test.shape}, Y_test shape: {Y_test.shape}\")"
   ]
  },
  {
   "cell_type": "code",
   "execution_count": null,
   "id": "5c23066e",
   "metadata": {},
   "outputs": [],
   "source": [
    "BATCH_SIZE = 8     # Ajustar según memoria GPU\n",
    "EPOCHS = 1\n",
    "\n",
    "# Se define también el dataset de test (solo para evaluación posterior)\n",
    "# Se normaliza a [-1,1] para que coincida con lo usado en entrenamiento\n",
    "test_dataset = tf.data.Dataset.from_tensor_slices((X_test, Y_test)).batch(BATCH_SIZE)\n",
    "test_dataset = test_dataset.map(lambda x,y: (x*2.0 - 1.0, y*2.0 - 1.0), num_parallel_calls=tf.data.AUTOTUNE).prefetch(tf.data.AUTOTUNE)"
   ]
  },
  {
   "cell_type": "code",
   "execution_count": null,
   "id": "6bc108d9",
   "metadata": {},
   "outputs": [],
   "source": [
    "model = ESRGAN()\n",
    "\n",
    "model.setup_model(\n",
    "    scale_factor=2, \n",
    "    growth_channels=16, \n",
    "    num_rrdb_blocks=8, \n",
    "    input_shape=X_train.shape[1:],\n",
    "    output_shape=Y_train.shape[1:],\n",
    "    from_trained=False\n",
    ")"
   ]
  },
  {
   "cell_type": "code",
   "execution_count": null,
   "id": "035d5d6d",
   "metadata": {},
   "outputs": [],
   "source": [
    "# Train ESRGAN and capture callbacks for metrics\n",
    "epoch_losses, time_cb, mem_cb = model.fit(\n",
    "    X_train=X_train, \n",
    "    Y_train=Y_train, \n",
    "    X_val=X_val, \n",
    "    Y_val=Y_val,\n",
    "    epochs=EPOCHS, \n",
    "    batch_size=BATCH_SIZE,\n",
    "    save_dir=grid_figures_directory,\n",
    ")"
   ]
  },
  {
   "cell_type": "code",
   "execution_count": null,
   "id": "09636be0",
   "metadata": {},
   "outputs": [],
   "source": [
    "results = model.evaluate(test_dataset)\n",
    "\n",
    "def _last_mean(name):\n",
    "    vals = epoch_losses.get(name, None)\n",
    "    if vals is None or len(vals) == 0:\n",
    "        return None\n",
    "    return float(np.mean(vals))\n",
    "\n",
    "train_loss = _last_mean('g_loss')\n",
    "train_psnr = _last_mean('psnr')\n",
    "train_ssim = _last_mean('ssim')\n",
    "val_loss = _last_mean('val_g_loss')\n",
    "val_psnr = _last_mean('val_psnr')\n",
    "val_ssim = _last_mean('val_ssim')\n",
    "\n",
    "metrics_dict = {\n",
    "    \"eval_loss\": float(results[\"avg_g_loss\"]),\n",
    "    \"eval_psnr\": float(results[\"avg_psnr\"]),\n",
    "    \"eval_ssim\": float(results[\"avg_ssim\"]),\n",
    "    \"final_train_loss\": train_loss,\n",
    "    \"final_val_loss\": val_loss,\n",
    "    \"final_train_psnr\": train_psnr,\n",
    "    \"final_val_psnr\": val_psnr,\n",
    "    \"final_train_ssim\": train_ssim,\n",
    "    \"final_val_ssim\": val_ssim,\n",
    "    \"epoch_time_sec\": time_cb.mean_time_value(),\n",
    "    \"memory\": mem_cb.as_dict()\n",
    "}"
   ]
  },
  {
   "cell_type": "code",
   "execution_count": null,
   "id": "1462f6a0",
   "metadata": {},
   "outputs": [],
   "source": [
    "# Save the trained model\n",
    "model.save(directory=directory, timestamp=timestamp)"
   ]
  },
  {
   "cell_type": "code",
   "execution_count": null,
   "id": "fbab42a7",
   "metadata": {},
   "outputs": [],
   "source": [
    "# Save evaluation/time/memory metrics next to the model\n",
    "metrics_path = os.path.abspath(os.path.join(os.getcwd(), f\"models/ESRGAN/ESRGAN_{timestamp}/ESRGAN_{timestamp}_metrics.pkl\"))\n",
    "\n",
    "with open(metrics_path, \"wb\") as f:\n",
    "    pickle.dump(metrics_dict, f)\n",
    "    \n",
    "print(f\"Saved metrics to {metrics_path}\")"
   ]
  }
 ],
 "metadata": {
  "kernelspec": {
   "display_name": "py310",
   "language": "python",
   "name": "python3"
  },
  "language_info": {
   "codemirror_mode": {
    "name": "ipython",
    "version": 3
   },
   "file_extension": ".py",
   "mimetype": "text/x-python",
   "name": "python",
   "nbconvert_exporter": "python",
   "pygments_lexer": "ipython3",
   "version": "3.10.18"
  }
 },
 "nbformat": 4,
 "nbformat_minor": 5
}
