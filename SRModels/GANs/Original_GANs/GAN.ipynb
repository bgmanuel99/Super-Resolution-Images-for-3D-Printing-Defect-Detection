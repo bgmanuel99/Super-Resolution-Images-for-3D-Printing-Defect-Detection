{
 "cells": [
  {
   "cell_type": "code",
   "execution_count": 7,
   "id": "1d26c4bd",
   "metadata": {},
   "outputs": [],
   "source": [
    "import os\n",
    "import tensorflow as tf\n",
    "import matplotlib.pyplot as plt\n",
    "\n",
    "from keras.layers import Conv2DTranspose, Dense, Reshape, Flatten, Conv2D, BatchNormalization, LeakyReLU, Dropout, Input"
   ]
  },
  {
   "cell_type": "code",
   "execution_count": 11,
   "id": "1956cbd3",
   "metadata": {},
   "outputs": [],
   "source": [
    "# Parameters\n",
    "BUFFER_SIZE = 60000\n",
    "BATCH_SIZE = 256\n",
    "LATENT_DIM = 100\n",
    "EPOCHS = 50\n",
    "SAVE_INTERVAL = 10\n",
    "\n",
    "checkpoint_dir = './training_checkpoints'\n",
    "checkpoint_prefix = os.path.join(checkpoint_dir, \"ckpt\")"
   ]
  },
  {
   "cell_type": "code",
   "execution_count": 17,
   "id": "99740eb4",
   "metadata": {},
   "outputs": [],
   "source": [
    "# Load MNIST dataset\n",
    "(train_images, _), (_, _) = tf.keras.datasets.mnist.load_data()\n",
    "train_images = train_images.reshape(-1, 28, 28, 1).astype(\"float32\")\n",
    "train_images = (train_images - 127.5) / 127.5  # Normalizar entre [-1, 1]\n",
    "\n",
    "# Create a TensorFlow dataset\n",
    "train_dataset = tf.data.Dataset.from_tensor_slices(train_images).shuffle(BUFFER_SIZE).batch(BATCH_SIZE)"
   ]
  },
  {
   "cell_type": "code",
   "execution_count": 8,
   "id": "c42ffe1c",
   "metadata": {},
   "outputs": [],
   "source": [
    "# Generator model\n",
    "def build_generator():\n",
    "    model = tf.keras.Sequential([\n",
    "        Input(shape=(LATENT_DIM,)),\n",
    "        Dense(7 * 7 * 256, use_bias=False),\n",
    "        BatchNormalization(),\n",
    "        LeakyReLU(),\n",
    "        Reshape((7, 7, 256)),\n",
    "        Conv2DTranspose(128, kernel_size=5, strides=1, padding='same', use_bias=False),\n",
    "        BatchNormalization(),\n",
    "        LeakyReLU(),\n",
    "        Conv2DTranspose(64, kernel_size=5, strides=2, padding='same', use_bias=False),\n",
    "        BatchNormalization(),\n",
    "        LeakyReLU(),\n",
    "        Conv2DTranspose(1, kernel_size=5, strides=2, padding='same', use_bias=False, activation='tanh')\n",
    "    ])\n",
    "    \n",
    "    return model"
   ]
  },
  {
   "cell_type": "code",
   "execution_count": 9,
   "id": "3ff8c86e",
   "metadata": {},
   "outputs": [],
   "source": [
    "# Discriminator model\n",
    "def build_discriminator():\n",
    "    model = tf.keras.Sequential([\n",
    "        Input(shape=(28, 28, 1)),\n",
    "        Conv2D(64, kernel_size=5, strides=2, padding='same'),\n",
    "        LeakyReLU(),\n",
    "        Dropout(0.3),\n",
    "        Conv2D(128, kernel_size=5, strides=2, padding='same'),\n",
    "        LeakyReLU(),\n",
    "        Dropout(0.3),\n",
    "        Flatten(),\n",
    "        Dense(1)\n",
    "    ])\n",
    "    \n",
    "    return model"
   ]
  },
  {
   "cell_type": "code",
   "execution_count": 10,
   "id": "842c107e",
   "metadata": {},
   "outputs": [],
   "source": [
    "# Create the generator and discriminator\n",
    "generator = build_generator()\n",
    "discriminator = build_discriminator()"
   ]
  },
  {
   "cell_type": "code",
   "execution_count": 13,
   "id": "0e788120",
   "metadata": {},
   "outputs": [],
   "source": [
    "# Definir optimizadores y función de pérdida\n",
    "cross_entropy = tf.keras.losses.BinaryCrossentropy(from_logits=True)\n",
    "generator_optimizer = tf.keras.optimizers.Adam(1e-4)\n",
    "discriminator_optimizer = tf.keras.optimizers.Adam(1e-4)\n",
    "\n",
    "# Función de pérdida del discriminador\n",
    "def discriminator_loss(real_output, fake_output):\n",
    "    real_loss = cross_entropy(tf.ones_like(real_output), real_output)\n",
    "    fake_loss = cross_entropy(tf.zeros_like(fake_output), fake_output)\n",
    "    return real_loss + fake_loss\n",
    "\n",
    "# Función de pérdida del generador\n",
    "def generator_loss(fake_output):\n",
    "    return cross_entropy(tf.ones_like(fake_output), fake_output)"
   ]
  },
  {
   "cell_type": "code",
   "execution_count": 14,
   "id": "2ef81971",
   "metadata": {},
   "outputs": [],
   "source": [
    "# Punto de control\n",
    "checkpoint = tf.train.Checkpoint(generator_optimizer=generator_optimizer,\n",
    "                                 discriminator_optimizer=discriminator_optimizer,\n",
    "                                 generator=generator,\n",
    "                                 discriminator=discriminator)"
   ]
  },
  {
   "cell_type": "code",
   "execution_count": null,
   "id": "2189e717",
   "metadata": {},
   "outputs": [],
   "source": [
    "# Función para generar imágenes y guardarlas\n",
    "def generate_and_save_images(model, epoch, test_input):\n",
    "    predictions = model(test_input, training=False)\n",
    "    fig = plt.figure(figsize=(4, 4))\n",
    "    for i in range(predictions.shape[0]):\n",
    "        plt.subplot(4, 4, i + 1)\n",
    "        plt.imshow(predictions[i, :, :, 0] * 127.5 + 127.5, cmap='gray')\n",
    "        plt.axis('off')\n",
    "    plt.savefig(f'image_at_epoch_{epoch:04d}.png')\n",
    "    plt.close()"
   ]
  },
  {
   "cell_type": "code",
   "execution_count": null,
   "id": "3e44533e",
   "metadata": {},
   "outputs": [],
   "source": [
    "# Entrenamiento\n",
    "@tf.function\n",
    "def train_step(images):\n",
    "    noise = tf.random.normal([BATCH_SIZE, LATENT_DIM])\n",
    "    with tf.GradientTape() as gen_tape, tf.GradientTape() as disc_tape:\n",
    "        generated_images = generator(noise, training=True)\n",
    "\n",
    "        real_output = discriminator(images, training=True)\n",
    "        fake_output = discriminator(generated_images, training=True)\n",
    "\n",
    "        gen_loss = generator_loss(fake_output)\n",
    "        disc_loss = discriminator_loss(real_output, fake_output)\n",
    "\n",
    "    gradients_of_generator = gen_tape.gradient(gen_loss, generator.trainable_variables)\n",
    "    gradients_of_discriminator = disc_tape.gradient(disc_loss, discriminator.trainable_variables)\n",
    "\n",
    "    generator_optimizer.apply_gradients(zip(gradients_of_generator, generator.trainable_variables))\n",
    "    discriminator_optimizer.apply_gradients(zip(gradients_of_discriminator, discriminator.trainable_variables))\n",
    "    return gen_loss, disc_loss\n",
    "\n",
    "# Bucle de entrenamiento\n",
    "def train(dataset, epochs):\n",
    "    seed = tf.random.normal([16, LATENT_DIM])\n",
    "    for epoch in range(1, epochs + 1):\n",
    "        for image_batch in dataset:\n",
    "            gen_loss, disc_loss = train_step(image_batch)\n",
    "        if epoch % SAVE_INTERVAL == 0 or epoch == 1:\n",
    "            print(f\"Epoch {epoch}, Generator Loss: {gen_loss:.4f}, Discriminator Loss: {disc_loss:.4f}\")\n",
    "            generate_and_save_images(generator, epoch, seed)\n",
    "            checkpoint.save(file_prefix=checkpoint_prefix)"
   ]
  },
  {
   "cell_type": "code",
   "execution_count": null,
   "id": "1800aade",
   "metadata": {},
   "outputs": [],
   "source": [
    "# Train GAN model\n",
    "train(train_dataset, EPOCHS)"
   ]
  },
  {
   "cell_type": "code",
   "execution_count": null,
   "id": "f4ed3683",
   "metadata": {},
   "outputs": [
    {
     "name": "stdout",
     "output_type": "stream",
     "text": [
      "✅ Checkpoint restaurado desde: ./training_checkpoints\\ckpt-6\n"
     ]
    }
   ],
   "source": [
    "# Restore from the latest checkpoint\n",
    "latest_checkpoint = tf.train.latest_checkpoint(checkpoint_dir)\n",
    "if latest_checkpoint:\n",
    "    checkpoint.restore(latest_checkpoint)\n",
    "    print(f\"✅ Checkpoint restaurado desde: {latest_checkpoint}\")\n",
    "else:\n",
    "    print(\"❌ No se encontró ningún checkpoint.\")"
   ]
  },
  {
   "cell_type": "code",
   "execution_count": null,
   "id": "b2810dcf",
   "metadata": {},
   "outputs": [
    {
     "name": "stdout",
     "output_type": "stream",
     "text": [
      "📊 Evaluando GAN...\n"
     ]
    },
    {
     "ename": "",
     "evalue": "",
     "output_type": "error",
     "traceback": [
      "\u001b[1;31mThe Kernel crashed while executing code in the current cell or a previous cell. \n",
      "\u001b[1;31mPlease review the code in the cell(s) to identify a possible cause of the failure. \n",
      "\u001b[1;31mClick <a href='https://aka.ms/vscodeJupyterKernelCrash'>here</a> for more info. \n",
      "\u001b[1;31mView Jupyter <a href='command:jupyter.viewOutput'>log</a> for further details."
     ]
    }
   ],
   "source": [
    "import numpy as np\n",
    "import tensorflow as tf\n",
    "from keras.applications.inception_v3 import InceptionV3, preprocess_input\n",
    "from sklearn.metrics import pairwise_distances\n",
    "from scipy import linalg\n",
    "\n",
    "def preprocess_for_inception(images):\n",
    "    images = tf.image.resize(images, [299, 299])\n",
    "    images = tf.image.grayscale_to_rgb(images)\n",
    "    return preprocess_input(images)\n",
    "\n",
    "inception_model = InceptionV3(include_top=True, weights='imagenet', input_shape=(299, 299, 3))\n",
    "\n",
    "def get_inception_features(images, batch_size=32):\n",
    "    features = []\n",
    "    for i in range(0, images.shape[0], batch_size):\n",
    "        batch = images[i:i+batch_size]\n",
    "        batch = preprocess_for_inception(batch)\n",
    "        feats = inception_model(batch, training=False)\n",
    "        features.append(feats)\n",
    "    return tf.concat(features, axis=0).numpy()\n",
    "\n",
    "def calculate_inception_score(images, splits=10):\n",
    "    images = preprocess_for_inception(images)\n",
    "    preds = tf.nn.softmax(inception_model(images)).numpy()\n",
    "    split_scores = []\n",
    "\n",
    "    for k in range(splits):\n",
    "        part = preds[k * preds.shape[0] // splits: (k+1) * preds.shape[0] // splits]\n",
    "        py = np.mean(part, axis=0)\n",
    "        scores = []\n",
    "        for i in range(part.shape[0]):\n",
    "            pyx = part[i]\n",
    "            scores.append(np.sum(pyx * (np.log(pyx + 1e-10) - np.log(py + 1e-10))))\n",
    "        split_scores.append(np.exp(np.mean(scores)))\n",
    "\n",
    "    return np.mean(split_scores), np.std(split_scores)\n",
    "\n",
    "def calculate_fid(real_images, fake_images):\n",
    "    act1 = get_inception_features(real_images)\n",
    "    act2 = get_inception_features(fake_images)\n",
    "\n",
    "    mu1, sigma1 = act1.mean(axis=0), np.cov(act1, rowvar=False)\n",
    "    mu2, sigma2 = act2.mean(axis=0), np.cov(act2, rowvar=False)\n",
    "\n",
    "    diff = mu1 - mu2\n",
    "    covmean, _ = linalg.sqrtm(sigma1.dot(sigma2), disp=False)\n",
    "    if np.iscomplexobj(covmean):\n",
    "        covmean = covmean.real\n",
    "\n",
    "    return diff.dot(diff) + np.trace(sigma1 + sigma2 - 2 * covmean)\n",
    "\n",
    "def calculate_kid(real_images, fake_images, subset_size=100):\n",
    "    act1 = get_inception_features(real_images)\n",
    "    act2 = get_inception_features(fake_images)\n",
    "\n",
    "    n = min(subset_size, act1.shape[0], act2.shape[0])\n",
    "    x, y = act1[:n], act2[:n]\n",
    "\n",
    "    xx = np.dot(x, x.T)\n",
    "    yy = np.dot(y, y.T)\n",
    "    xy = np.dot(x, y.T)\n",
    "\n",
    "    def mmd2(a, b):\n",
    "        return np.mean(a) + np.mean(b) - 2 * np.mean(xy)\n",
    "\n",
    "    return mmd2(xx, yy)\n",
    "\n",
    "def calculate_precision_recall(real_images, fake_images, k=5, threshold=0.8):\n",
    "    act1 = get_inception_features(real_images)\n",
    "    act2 = get_inception_features(fake_images)\n",
    "\n",
    "    dists_real_fake = pairwise_distances(act2, act1)\n",
    "\n",
    "    # Precision: cuántas muestras generadas están cerca de alguna real\n",
    "    precision = np.mean(np.min(dists_real_fake, axis=1) < threshold)\n",
    "\n",
    "    # Recall: cuántas reales están cubiertas por alguna generada\n",
    "    recall = np.mean(np.min(dists_real_fake, axis=0) < threshold)\n",
    "\n",
    "    return precision, recall\n",
    "\n",
    "def evaluate_gan(generator, real_dataset, latent_dim=100, num_samples=500):\n",
    "    print(\"📊 Evaluando GAN...\")\n",
    "\n",
    "    # Obtener imágenes reales\n",
    "    real_images = []\n",
    "    for batch in real_dataset:\n",
    "        real_images.append(batch)\n",
    "        if len(tf.concat(real_images, axis=0)) >= num_samples:\n",
    "            break\n",
    "    real_images = tf.concat(real_images, axis=0)[:num_samples]\n",
    "\n",
    "    # Imágenes falsas\n",
    "    noise = tf.random.normal([num_samples, latent_dim])\n",
    "    fake_images = generator(noise, training=False)\n",
    "\n",
    "    # Calcular métricas\n",
    "    is_mean, is_std = calculate_inception_score(fake_images)\n",
    "    fid = calculate_fid(real_images, fake_images)\n",
    "    kid = calculate_kid(real_images, fake_images)\n",
    "    precision, recall = calculate_precision_recall(real_images, fake_images)\n",
    "\n",
    "    print(f\"\\n📈 Inception Score: {is_mean:.4f} ± {is_std:.4f}\")\n",
    "    print(f\"📉 FID: {fid:.4f}\")\n",
    "    print(f\"🔁 KID: {kid:.4f}\")\n",
    "    print(f\"✅ Precision: {precision:.4f}\")\n",
    "    print(f\"♻️ Recall: {recall:.4f}\")\n",
    "\n",
    "evaluate_gan(generator, train_dataset)"
   ]
  },
  {
   "cell_type": "code",
   "execution_count": 20,
   "id": "4f7735b0",
   "metadata": {},
   "outputs": [
    {
     "data": {
      "image/png": "[encoded data removed]",
      "text/plain": [
       "<Figure size 600x600 with 16 Axes>"
      ]
     },
     "metadata": {},
     "output_type": "display_data"
    }
   ],
   "source": [
    "noise = tf.random.normal([16, 100])  # Tamaño del vector latente\n",
    "generated_images = generator(noise, training=False)\n",
    "\n",
    "# Mostrar imágenes generadas\n",
    "import matplotlib.pyplot as plt\n",
    "\n",
    "def plot_images(images, n=4):\n",
    "    _, axs = plt.subplots(n, n, figsize=(6,6))\n",
    "    for i in range(n*n):\n",
    "        ax = axs[i // n, i % n]\n",
    "        ax.imshow(images[i, :, :, 0], cmap='gray')\n",
    "        ax.axis('off')\n",
    "    plt.show()\n",
    "\n",
    "plot_images(generated_images)"
   ]
  }
 ],
 "metadata": {
  "kernelspec": {
   "display_name": "base",
   "language": "python",
   "name": "python3"
  },
  "language_info": {
   "codemirror_mode": {
    "name": "ipython",
    "version": 3
   },
   "file_extension": ".py",
   "mimetype": "text/x-python",
   "name": "python",
   "nbconvert_exporter": "python",
   "pygments_lexer": "ipython3",
   "version": "3.12.7"
  }
 },
 "nbformat": 4,
 "nbformat_minor": 5
}
