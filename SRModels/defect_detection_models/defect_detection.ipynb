{
 "cells": [
  {
   "cell_type": "markdown",
   "id": "4f26f0a5",
   "metadata": {},
   "source": [
    "# VGG16 fine-tuning for defect detection\n",
    "\n",
    "This section builds a VGG16 model with ImageNet weights, lets you choose any valid input shape (HxWx3), and fine-tune only the last layers you specify."
   ]
  },
  {
   "cell_type": "code",
   "execution_count": 2,
   "id": "82c2da04",
   "metadata": {},
   "outputs": [],
   "source": [
    "import os\n",
    "import sys\n",
    "import numpy as np\n",
    "from keras import Model\n",
    "from keras.regularizers import l2\n",
    "from keras.optimizers import Adam\n",
    "from keras.applications import VGG16\n",
    "from sklearn.model_selection import train_test_split\n",
    "from keras.layers import BatchNormalization, Dense, Dropout, GlobalAveragePooling2D, Input\n",
    "\n",
    "sys.path.append(os.path.abspath(os.path.join(os.getcwd(), \"../../\")))\n",
    "from SRModels.loading_methods import load_defects_dataset_as_patches\n",
    "from SRModels.data_augmentation import AdvancedAugmentGenerator\n",
    "from SRModels.constants import VGG_PATCH_SIZE, VGG_STRIDE, RANDOM_SEED"
   ]
  },
  {
   "cell_type": "code",
   "execution_count": 3,
   "id": "d7279558",
   "metadata": {},
   "outputs": [],
   "source": [
    "def build_vgg16_finetune(\n",
    "    input_shape=(128, 128, 3),\n",
    "    num_classes=2,\n",
    "    train_last_n_layers=4,\n",
    "    base_trainable=False,\n",
    "    dropout_rate=0.2,\n",
    "    l2_reg=0.0,\n",
    "):\n",
    "    \"\"\"\n",
    "    Build a VGG16-based model with ImageNet weights and a custom classification head.\n",
    "\n",
    "    Parameters\n",
    "    ----------\n",
    "    input_shape : (H, W, 3)\n",
    "        Model input shape. Must have 3 channels.\n",
    "    num_classes : int\n",
    "        Number of output classes.\n",
    "    train_last_n_layers : int\n",
    "        Number of layers (from the end of the base model) to unfreeze for fine-tuning.\n",
    "    base_trainable : bool\n",
    "        If True, allow training on selected last N layers of VGG16.\n",
    "    dropout_rate : float\n",
    "        Dropout after the pooled features (0 disables).\n",
    "    l2_reg : float\n",
    "        L2 weight decay for the dense head (0 disables).\n",
    "\n",
    "    Returns\n",
    "    -------\n",
    "    keras.Model\n",
    "        Compiled model ready to train.\n",
    "    \"\"\"\n",
    "    \n",
    "    assert input_shape[-1] == 3, \"Input must have 3 channels (RGB).\"\n",
    "\n",
    "    # Load VGG16 base with ImageNet weights and no top\n",
    "    base = VGG16(\n",
    "        include_top=False,\n",
    "        weights=\"imagenet\",\n",
    "        input_shape=input_shape,\n",
    "    )\n",
    "\n",
    "    # Freeze all layers by default\n",
    "    base.trainable = False\n",
    "\n",
    "    # Optionally unfreeze last N layers\n",
    "    if base_trainable and train_last_n_layers > 0:\n",
    "        # Unfreeze only the last N layers of the base\n",
    "        for layer in base.layers[-train_last_n_layers:]:\n",
    "            if not isinstance(layer, BatchNormalization):\n",
    "                layer.trainable = True\n",
    "\n",
    "    # Build head\n",
    "    inputs = Input(shape=input_shape)\n",
    "    x = base(inputs, training=False)  # important for BN layers in eval mode\n",
    "    x = GlobalAveragePooling2D(name=\"gap\")(x)\n",
    "    if dropout_rate > 0:\n",
    "        x = Dropout(dropout_rate)(x)\n",
    "    kernel_reg = l2(l2_reg) if l2_reg > 0 else None\n",
    "    x = Dense(256, activation=\"relu\", kernel_regularizer=kernel_reg)(x)\n",
    "    x = Dropout(dropout_rate)(x) if dropout_rate > 0 else x\n",
    "\n",
    "    outputs = Dense(num_classes, activation=\"softmax\", name=\"predictions\")(x)\n",
    "    model = Model(inputs, outputs, name=\"vgg16_finetune\")\n",
    "\n",
    "    optimizer = Adam(learning_rate=1e-3)\n",
    "    \n",
    "    model.compile(optimizer=optimizer, loss=\"sparse_categorical_crossentropy\", metrics=[\"accuracy\"])\n",
    "    \n",
    "    return model"
   ]
  },
  {
   "cell_type": "code",
   "execution_count": 4,
   "id": "999f12f6",
   "metadata": {},
   "outputs": [],
   "source": [
    "HR_ROOT = os.path.abspath(os.path.join(os.getcwd(), \"../../data/images/HR\"))\n",
    "CLASS_LABELS_PATH = os.path.abspath(os.path.join(os.getcwd(), \"../../data/images/class_labels_map.pkl\"))"
   ]
  },
  {
   "cell_type": "code",
   "execution_count": 5,
   "id": "ee59aaa3",
   "metadata": {},
   "outputs": [],
   "source": [
    "# X ->  High-resolution patches (model input)\n",
    "# y -> Class labels (target)\n",
    "X, y = load_defects_dataset_as_patches(HR_ROOT, patch_size=VGG_PATCH_SIZE, stride=VGG_STRIDE, class_map_path=CLASS_LABELS_PATH)\n",
    "X_train, X_test, y_train, y_test = train_test_split(X, y, test_size=0.2, shuffle=True, random_state=RANDOM_SEED)\n",
    "X_train, X_val, y_train, y_val = train_test_split(X_train, y_train, test_size=0.1, shuffle=True, random_state=RANDOM_SEED)"
   ]
  },
  {
   "cell_type": "code",
   "execution_count": 6,
   "id": "d3a4bf84",
   "metadata": {},
   "outputs": [
    {
     "name": "stdout",
     "output_type": "stream",
     "text": [
      "X shape: (1920, 96, 96, 3), Y shape: (1920,)\n",
      "X_train shape: (1382, 96, 96, 3), y_train shape: (1382,)\n",
      "X_val shape: (154, 96, 96, 3), y_val shape: (154,)\n",
      "X_test shape: (384, 96, 96, 3), y_test shape: (384,)\n",
      "Class distribution: {0: 1920}\n"
     ]
    }
   ],
   "source": [
    "print(f\"X shape: {X.shape}, Y shape: {y.shape}\")\n",
    "print(f\"X_train shape: {X_train.shape}, y_train shape: {y_train.shape}\")\n",
    "print(f\"X_val shape: {X_val.shape}, y_val shape: {y_val.shape}\")\n",
    "print(f\"X_test shape: {X_test.shape}, y_test shape: {y_test.shape}\")\n",
    "\n",
    "unique, counts = np.unique(y, return_counts=True)\n",
    "print(f\"Class distribution: {dict(zip(unique, counts))}\")"
   ]
  },
  {
   "cell_type": "code",
   "execution_count": 7,
   "id": "7b1936f8",
   "metadata": {},
   "outputs": [],
   "source": [
    "model = build_vgg16_finetune(\n",
    "    input_shape=X.shape[1:],\n",
    "    num_classes=np.unique(y).shape[0],\n",
    "    train_last_n_layers=6,\n",
    "    base_trainable=True,\n",
    "    dropout_rate=0.3,\n",
    "    l2_reg=1e-4\n",
    ")"
   ]
  },
  {
   "cell_type": "code",
   "execution_count": 8,
   "id": "844034ec",
   "metadata": {},
   "outputs": [
    {
     "name": "stdout",
     "output_type": "stream",
     "text": [
      "Model: \"vgg16_finetune\"\n",
      "_________________________________________________________________\n",
      " Layer (type)                Output Shape              Param #   \n",
      "=================================================================\n",
      " input_2 (InputLayer)        [(None, 96, 96, 3)]       0         \n",
      "                                                                 \n",
      " vgg16 (Functional)          (None, 3, 3, 512)         14714688  \n",
      "                                                                 \n",
      " gap (GlobalAveragePooling2D  (None, 512)              0         \n",
      " )                                                               \n",
      "                                                                 \n",
      " dropout (Dropout)           (None, 512)               0         \n",
      "                                                                 \n",
      " dense (Dense)               (None, 256)               131328    \n",
      "                                                                 \n",
      "_________________________________________________________________\n",
      " Layer (type)                Output Shape              Param #   \n",
      "=================================================================\n",
      " input_2 (InputLayer)        [(None, 96, 96, 3)]       0         \n",
      "                                                                 \n",
      " vgg16 (Functional)          (None, 3, 3, 512)         14714688  \n",
      "                                                                 \n",
      " gap (GlobalAveragePooling2D  (None, 512)              0         \n",
      " )                                                               \n",
      "                                                                 \n",
      " dropout (Dropout)           (None, 512)               0         \n",
      "                                                                 \n",
      " dense (Dense)               (None, 256)               131328    \n",
      "                                                                 \n",
      " dropout_1 (Dropout)         (None, 256)               0         \n",
      "                                                                 \n",
      " predictions (Dense)         (None, 1)                 257       \n",
      "                                                                 \n",
      "=================================================================\n",
      "Total params: 14,846,273\n",
      "Trainable params: 131,585\n",
      "Non-trainable params: 14,714,688\n",
      "_________________________________________________________________\n",
      " dropout_1 (Dropout)         (None, 256)               0         \n",
      "                                                                 \n",
      " predictions (Dense)         (None, 1)                 257       \n",
      "                                                                 \n",
      "=================================================================\n",
      "Total params: 14,846,273\n",
      "Trainable params: 131,585\n",
      "Non-trainable params: 14,714,688\n",
      "_________________________________________________________________\n"
     ]
    }
   ],
   "source": [
    "model.summary()"
   ]
  }
 ],
 "metadata": {
  "kernelspec": {
   "display_name": "py310",
   "language": "python",
   "name": "python3"
  },
  "language_info": {
   "codemirror_mode": {
    "name": "ipython",
    "version": 3
   },
   "file_extension": ".py",
   "mimetype": "text/x-python",
   "name": "python",
   "nbconvert_exporter": "python",
   "pygments_lexer": "ipython3",
   "version": "3.10.18"
  }
 },
 "nbformat": 4,
 "nbformat_minor": 5
}
