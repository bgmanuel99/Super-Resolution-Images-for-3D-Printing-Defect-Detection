{
 "cells": [
  {
   "cell_type": "code",
   "execution_count": 21,
   "id": "070b64a0",
   "metadata": {},
   "outputs": [],
   "source": [
    "import cv2\n",
    "import os"
   ]
  },
  {
   "cell_type": "code",
   "execution_count": null,
   "id": "94a9c38b",
   "metadata": {},
   "outputs": [],
   "source": [
    "def extract_video_frames(video_path, skip_seconds=(2, 2), frame_interval=10, output_name=\"\", output_dir=\"train_samples\"):\n",
    "    \"\"\"\n",
    "    Extract frames from a video file, skipping the first and last few seconds,\n",
    "    and saving them as images in a specified directory.\n",
    "    :param video_path: Path to the input video file.\n",
    "    :param skip_seconds: Tuple of seconds to skip at the start and end of the video.\n",
    "    :param frame_interval: Interval at which frames are saved (0 means save all frames).\n",
    "    :param output_name: Name for the output directory and image files.\n",
    "    \"\"\"\n",
    "    \n",
    "    if not video_path or not isinstance(video_path, str):\n",
    "        raise ValueError(\"video_path must be a non-empty string.\")\n",
    "    if not os.path.exists(video_path):\n",
    "        raise FileNotFoundError(f\"Video file not found: {video_path}\")\n",
    "    if not isinstance(skip_seconds, tuple) or len(skip_seconds) != 2:\n",
    "        raise ValueError(\"skip_seconds must be a tuple of two values (start_skip, end_skip).\")\n",
    "    if not isinstance(frame_interval, int) or frame_interval < 0:\n",
    "        raise ValueError(\"frame_interval must be a non-negative integer.\")\n",
    "    if not isinstance(output_name, str) or not output_name:\n",
    "        raise ValueError(\"output_name must be a non-empty string.\")\n",
    "    \n",
    "    # Open the video file\n",
    "    cap = cv2.VideoCapture(video_path)\n",
    "    fps = cap.get(cv2.CAP_PROP_FPS)\n",
    "    total_frames = int(cap.get(cv2.CAP_PROP_FRAME_COUNT))\n",
    "    frame_width = int(cap.get(cv2.CAP_PROP_FRAME_WIDTH))\n",
    "    frame_height = int(cap.get(cv2.CAP_PROP_FRAME_HEIGHT))\n",
    "    \n",
    "    # Calculate start and end frames after skipping initial/final seconds\n",
    "    start_frame = int(skip_seconds[0] * fps)\n",
    "    end_frame = total_frames - int(skip_seconds[1] * fps)\n",
    "    if start_frame < 0 or end_frame < 0:\n",
    "        raise ValueError(\"Skip seconds result in negative frame indices.\")\n",
    "    elif start_frame >= total_frames or end_frame > total_frames:\n",
    "        raise ValueError(\"Skip seconds exceed total video duration.\")\n",
    "    elif start_frame >= end_frame:\n",
    "        raise ValueError(\"Start frame must be less than end frame after skipping seconds.\")\n",
    "\n",
    "    # Create output directory\n",
    "    full_output_dir = f\"Data/{output_dir}/{output_name}/original\"\n",
    "    os.makedirs(full_output_dir, exist_ok=True)\n",
    "    \n",
    "    # Find the last image number in the directory\n",
    "    existing_files = [f for f in os.listdir(full_output_dir) if f.startswith(output_name) and f.endswith('.png')]\n",
    "    if existing_files:\n",
    "        last_number = max([int(f.replace(output_name, \"\").replace(\".png\", \"\")) for f in existing_files])\n",
    "        saved_count = last_number + 1\n",
    "    else:\n",
    "        saved_count = 0\n",
    "    \n",
    "    current_frame = 0\n",
    "\n",
    "    while True:\n",
    "        ret, frame = cap.read()\n",
    "        \n",
    "        if not ret:\n",
    "            break\n",
    "        \n",
    "        if start_frame <= current_frame < end_frame:\n",
    "            if (frame_interval == 0) or (current_frame - start_frame) % frame_interval == 0:\n",
    "                filename = os.path.join(full_output_dir, f\"{output_name}{saved_count}.png\")\n",
    "                cv2.imwrite(filename, frame)\n",
    "                saved_count += 1\n",
    "        current_frame += 1\n",
    "\n",
    "    cap.release()\n",
    "\n",
    "    # Print analysis\n",
    "    print(\"=== VIDEO ANALYSIS ===\")\n",
    "    print(f\"Total frames: {total_frames}\")\n",
    "    print(f\"Total frames (after skipped seconds): {end_frame - start_frame}\")\n",
    "    print(f\"Images saved in this run: {saved_count - (last_number + 1 if \"last_number\" in locals() else 0)}\")\n",
    "    print(f\"Total images in directory: {saved_count}\")\n",
    "    print(f\"Frame size (width x height): {frame_width} x {frame_height}\")\n"
   ]
  },
  {
   "cell_type": "code",
   "execution_count": 25,
   "id": "ea2c37b4",
   "metadata": {},
   "outputs": [
    {
     "name": "stdout",
     "output_type": "stream",
     "text": [
      "=== VIDEO ANALYSIS ===\n",
      "Total frames: 305\n",
      "Total frames (after skipped seconds): 187\n",
      "Images saved in this run: 19\n",
      "Total images in directory: 57\n",
      "Frame size (width x height): 478 x 850\n"
     ]
    }
   ],
   "source": [
    "extract_video_frames(\"video.mp4\", skip_seconds=(2, 2), output_name=\"img\")"
   ]
  }
 ],
 "metadata": {
  "kernelspec": {
   "display_name": "base",
   "language": "python",
   "name": "python3"
  },
  "language_info": {
   "codemirror_mode": {
    "name": "ipython",
    "version": 3
   },
   "file_extension": ".py",
   "mimetype": "text/x-python",
   "name": "python",
   "nbconvert_exporter": "python",
   "pygments_lexer": "ipython3",
   "version": "3.12.7"
  }
 },
 "nbformat": 4,
 "nbformat_minor": 5
}
